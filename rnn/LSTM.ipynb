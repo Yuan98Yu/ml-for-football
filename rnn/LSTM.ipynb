{
 "nbformat": 4,
 "nbformat_minor": 2,
 "metadata": {
  "language_info": {
   "name": "python",
   "codemirror_mode": {
    "name": "ipython",
    "version": 3
   },
   "version": "3.7.3"
  },
  "orig_nbformat": 2,
  "file_extension": ".py",
  "mimetype": "text/x-python",
  "name": "python",
  "npconvert_exporter": "python",
  "pygments_lexer": "ipython3",
  "version": 3
 },
 "cells": [
  {
   "cell_type": "code",
   "execution_count": 45,
   "metadata": {},
   "outputs": [],
   "source": [
    "import numpy as np\n",
    "from keras.models import load_model, Model\n",
    "from keras.layers import Dense, Activation, Dropout, Input, LSTM, Reshape, Lambda, RepeatVector\n",
    "from keras.initializers import glorot_uniform\n",
    "from keras.optimizers import Adam\n",
    "from keras import backend as K\n",
    "\n",
    "from rnn.data_utils import load_data, get_XY, get_test_XY"
   ]
  },
  {
   "cell_type": "code",
   "execution_count": 2,
   "metadata": {},
   "outputs": [
    {
     "name": "stdout",
     "output_type": "stream",
     "text": "m:  50\nTx:  60\nn_X:  44\nn_Y:  3\nshape of X: (50, 60, 44)\nshape of Y: (60, 50, 3)\n"
    }
   ],
   "source": [
    "X, Y, m, n_X, n_Y, Tx = get_XY()\n",
    "Y = Y.transpose(1, 0, 2)\n",
    "print('m: ', m)\n",
    "print('Tx: ', Tx)\n",
    "print('n_X: ', n_X)\n",
    "print('n_Y: ', n_Y)\n",
    "print('shape of X:', X.shape)\n",
    "print('shape of Y:', Y.shape)"
   ]
  },
  {
   "cell_type": "code",
   "execution_count": 3,
   "metadata": {},
   "outputs": [],
   "source": [
    "# number of dimensions for the hidden state of each LSTM cell.\n",
    "n_a = 64 "
   ]
  },
  {
   "cell_type": "code",
   "execution_count": 4,
   "metadata": {},
   "outputs": [
    {
     "name": "stdout",
     "output_type": "stream",
     "text": "WARNING:tensorflow:From D:\\application\\ide_env\\anoconda\\lib\\site-packages\\keras\\backend\\tensorflow_backend.py:74: The name tf.get_default_graph is deprecated. Please use tf.compat.v1.get_default_graph instead.\n\n"
    }
   ],
   "source": [
    "reshapor = Reshape((1, n_X))                        # Used in Step 2.B of djmodel(), below\n",
    "LSTM_cell = LSTM(n_a, return_state = True)         # Used in Step 2.C\n",
    "densor = Dense(n_Y)     # Used in Step 2.D"
   ]
  },
  {
   "cell_type": "code",
   "execution_count": 5,
   "metadata": {},
   "outputs": [],
   "source": [
    "def djmodel(Tx, n_a, n_X, n_Y):\n",
    "    \"\"\"\n",
    "    Implement the model\n",
    "    \n",
    "    Arguments:\n",
    "    Tx -- length of the sequence in a corpus\n",
    "    n_a -- the number of activations used in our model\n",
    "    n_X -- number of features of x\n",
    "    n_Y -- number of features of y\n",
    "    \n",
    "    Returns:\n",
    "    model -- a keras instance model with n_a activations\n",
    "    \"\"\"\n",
    "    \n",
    "    # Define the input layer and specify the shape\n",
    "    X = Input(shape=(Tx, n_X))\n",
    "    \n",
    "    # Define the initial hidden state a0 and initial cell state c0\n",
    "    # using `Input`\n",
    "    a0 = Input(shape=(n_a,), name='a0')\n",
    "    c0 = Input(shape=(n_a,), name='c0')\n",
    "    a = a0\n",
    "    c = c0\n",
    "    \n",
    "    ### START CODE HERE ### \n",
    "    # Step 1: Create empty list to append the outputs while you iterate (≈1 line)\n",
    "    outputs = list()\n",
    "    \n",
    "    # Step 2: Loop\n",
    "    for t in range(Tx):\n",
    "        \n",
    "        # Step 2.A: select the \"t\"th time step vector from X. \n",
    "        x = Lambda(lambda X : X[:, t, :] ) (X)\n",
    "        # Step 2.B: Use reshapor to reshape x to be (1, n_X) (≈1 line)\n",
    "        x = reshapor(x)\n",
    "        # Step 2.C: Perform one step of the LSTM_cell\n",
    "        a, _, c =  LSTM_cell(inputs=x, initial_state=[a, c])\n",
    "        # Step 2.D: Apply densor to the hidden state output of LSTM_Cell\n",
    "        out = densor(a)\n",
    "        # Step 2.E: add the output to \"outputs\"\n",
    "        outputs.append(out)\n",
    "        \n",
    "    # Step 3: Create model instance\n",
    "    model = Model(inputs=[X, a0, c0], outputs=outputs)\n",
    "    \n",
    "    ### END CODE HERE ###\n",
    "    \n",
    "    return model"
   ]
  },
  {
   "cell_type": "code",
   "execution_count": 6,
   "metadata": {},
   "outputs": [
    {
     "name": "stdout",
     "output_type": "stream",
     "text": "WARNING:tensorflow:From D:\\application\\ide_env\\anoconda\\lib\\site-packages\\keras\\backend\\tensorflow_backend.py:517: The name tf.placeholder is deprecated. Please use tf.compat.v1.placeholder instead.\n\nWARNING:tensorflow:From D:\\application\\ide_env\\anoconda\\lib\\site-packages\\keras\\backend\\tensorflow_backend.py:4138: The name tf.random_uniform is deprecated. Please use tf.random.uniform instead.\n\n"
    }
   ],
   "source": [
    "model = djmodel(Tx = Tx , n_a = n_a, n_X = n_X, n_Y = n_Y)"
   ]
  },
  {
   "cell_type": "code",
   "execution_count": 7,
   "metadata": {},
   "outputs": [
    {
     "name": "stdout",
     "output_type": "stream",
     "text": "m_1[51][0]                    \n                                                                 lstm_1[51][2]                    \n                                                                 reshape_1[53][0]                 \n                                                                 lstm_1[52][0]                    \n                                                                 lstm_1[52][2]                    \n                                                                 reshape_1[54][0]                 \n                                                                 lstm_1[53][0]                    \n                                                                 lstm_1[53][2]                    \n                                                                 reshape_1[55][0]                 \n                                                                 lstm_1[54][0]                    \n                                                                 lstm_1[54][2]                    \n                                                                 reshape_1[56][0]                 \n                                                                 lstm_1[55][0]                    \n                                                                 lstm_1[55][2]                    \n                                                                 reshape_1[57][0]                 \n                                                                 lstm_1[56][0]                    \n                                                                 lstm_1[56][2]                    \n                                                                 reshape_1[58][0]                 \n                                                                 lstm_1[57][0]                    \n                                                                 lstm_1[57][2]                    \n                                                                 reshape_1[59][0]                 \n                                                                 lstm_1[58][0]                    \n                                                                 lstm_1[58][2]                    \n__________________________________________________________________________________________________\nlambda_3 (Lambda)               (None, 44)           0           input_1[0][0]                    \n__________________________________________________________________________________________________\nlambda_4 (Lambda)               (None, 44)           0           input_1[0][0]                    \n__________________________________________________________________________________________________\nlambda_5 (Lambda)               (None, 44)           0           input_1[0][0]                    \n__________________________________________________________________________________________________\nlambda_6 (Lambda)               (None, 44)           0           input_1[0][0]                    \n__________________________________________________________________________________________________\nlambda_7 (Lambda)               (None, 44)           0           input_1[0][0]                    \n__________________________________________________________________________________________________\nlambda_8 (Lambda)               (None, 44)           0           input_1[0][0]                    \n__________________________________________________________________________________________________\nlambda_9 (Lambda)               (None, 44)           0           input_1[0][0]                    \n__________________________________________________________________________________________________\nlambda_10 (Lambda)              (None, 44)           0           input_1[0][0]                    \n__________________________________________________________________________________________________\nlambda_11 (Lambda)              (None, 44)           0           input_1[0][0]                    \n__________________________________________________________________________________________________\nlambda_12 (Lambda)              (None, 44)           0           input_1[0][0]                    \n__________________________________________________________________________________________________\nlambda_13 (Lambda)              (None, 44)           0           input_1[0][0]                    \n__________________________________________________________________________________________________\nlambda_14 (Lambda)              (None, 44)           0           input_1[0][0]                    \n__________________________________________________________________________________________________\nlambda_15 (Lambda)              (None, 44)           0           input_1[0][0]                    \n__________________________________________________________________________________________________\nlambda_16 (Lambda)              (None, 44)           0           input_1[0][0]                    \n__________________________________________________________________________________________________\nlambda_17 (Lambda)              (None, 44)           0           input_1[0][0]                    \n__________________________________________________________________________________________________\nlambda_18 (Lambda)              (None, 44)           0           input_1[0][0]                    \n__________________________________________________________________________________________________\nlambda_19 (Lambda)              (None, 44)           0           input_1[0][0]                    \n__________________________________________________________________________________________________\nlambda_20 (Lambda)              (None, 44)           0           input_1[0][0]                    \n__________________________________________________________________________________________________\nlambda_21 (Lambda)              (None, 44)           0           input_1[0][0]                    \n__________________________________________________________________________________________________\nlambda_22 (Lambda)              (None, 44)           0           input_1[0][0]                    \n__________________________________________________________________________________________________\nlambda_23 (Lambda)              (None, 44)           0           input_1[0][0]                    \n__________________________________________________________________________________________________\nlambda_24 (Lambda)              (None, 44)           0           input_1[0][0]                    \n__________________________________________________________________________________________________\nlambda_25 (Lambda)              (None, 44)           0           input_1[0][0]                    \n__________________________________________________________________________________________________\nlambda_26 (Lambda)              (None, 44)           0           input_1[0][0]                    \n__________________________________________________________________________________________________\nlambda_27 (Lambda)              (None, 44)           0           input_1[0][0]                    \n__________________________________________________________________________________________________\nlambda_28 (Lambda)              (None, 44)           0           input_1[0][0]                    \n__________________________________________________________________________________________________\nlambda_29 (Lambda)              (None, 44)           0           input_1[0][0]                    \n__________________________________________________________________________________________________\nlambda_30 (Lambda)              (None, 44)           0           input_1[0][0]                    \n__________________________________________________________________________________________________\nlambda_31 (Lambda)              (None, 44)           0           input_1[0][0]                    \n__________________________________________________________________________________________________\nlambda_32 (Lambda)              (None, 44)           0           input_1[0][0]                    \n__________________________________________________________________________________________________\nlambda_33 (Lambda)              (None, 44)           0           input_1[0][0]                    \n__________________________________________________________________________________________________\nlambda_34 (Lambda)              (None, 44)           0           input_1[0][0]                    \n__________________________________________________________________________________________________\nlambda_35 (Lambda)              (None, 44)           0           input_1[0][0]                    \n__________________________________________________________________________________________________\nlambda_36 (Lambda)              (None, 44)           0           input_1[0][0]                    \n__________________________________________________________________________________________________\nlambda_37 (Lambda)              (None, 44)           0           input_1[0][0]                    \n__________________________________________________________________________________________________\nlambda_38 (Lambda)              (None, 44)           0           input_1[0][0]                    \n__________________________________________________________________________________________________\nlambda_39 (Lambda)              (None, 44)           0           input_1[0][0]                    \n__________________________________________________________________________________________________\nlambda_40 (Lambda)              (None, 44)           0           input_1[0][0]                    \n__________________________________________________________________________________________________\nlambda_41 (Lambda)              (None, 44)           0           input_1[0][0]                    \n__________________________________________________________________________________________________\nlambda_42 (Lambda)              (None, 44)           0           input_1[0][0]                    \n__________________________________________________________________________________________________\nlambda_43 (Lambda)              (None, 44)           0           input_1[0][0]                    \n__________________________________________________________________________________________________\nlambda_44 (Lambda)              (None, 44)           0           input_1[0][0]                    \n__________________________________________________________________________________________________\nlambda_45 (Lambda)              (None, 44)           0           input_1[0][0]                    \n__________________________________________________________________________________________________\nlambda_46 (Lambda)              (None, 44)           0           input_1[0][0]                    \n__________________________________________________________________________________________________\nlambda_47 (Lambda)              (None, 44)           0           input_1[0][0]                    \n__________________________________________________________________________________________________\nlambda_48 (Lambda)              (None, 44)           0           input_1[0][0]                    \n__________________________________________________________________________________________________\nlambda_49 (Lambda)              (None, 44)           0           input_1[0][0]                    \n__________________________________________________________________________________________________\nlambda_50 (Lambda)              (None, 44)           0           input_1[0][0]                    \n__________________________________________________________________________________________________\nlambda_51 (Lambda)              (None, 44)           0           input_1[0][0]                    \n__________________________________________________________________________________________________\nlambda_52 (Lambda)              (None, 44)           0           input_1[0][0]                    \n__________________________________________________________________________________________________\nlambda_53 (Lambda)              (None, 44)           0           input_1[0][0]                    \n__________________________________________________________________________________________________\nlambda_54 (Lambda)              (None, 44)           0           input_1[0][0]                    \n__________________________________________________________________________________________________\nlambda_55 (Lambda)              (None, 44)           0           input_1[0][0]                    \n__________________________________________________________________________________________________\nlambda_56 (Lambda)              (None, 44)           0           input_1[0][0]                    \n__________________________________________________________________________________________________\nlambda_57 (Lambda)              (None, 44)           0           input_1[0][0]                    \n__________________________________________________________________________________________________\nlambda_58 (Lambda)              (None, 44)           0           input_1[0][0]                    \n__________________________________________________________________________________________________\nlambda_59 (Lambda)              (None, 44)           0           input_1[0][0]                    \n__________________________________________________________________________________________________\nlambda_60 (Lambda)              (None, 44)           0           input_1[0][0]                    \n__________________________________________________________________________________________________\ndense_1 (Dense)                 (None, 3)            195         lstm_1[0][0]                     \n                                                                 lstm_1[1][0]                     \n                                                                 lstm_1[2][0]                     \n                                                                 lstm_1[3][0]                     \n                                                                 lstm_1[4][0]                     \n                                                                 lstm_1[5][0]                     \n                                                                 lstm_1[6][0]                     \n                                                                 lstm_1[7][0]                     \n                                                                 lstm_1[8][0]                     \n                                                                 lstm_1[9][0]                     \n                                                                 lstm_1[10][0]                    \n                                                                 lstm_1[11][0]                    \n                                                                 lstm_1[12][0]                    \n                                                                 lstm_1[13][0]                    \n                                                                 lstm_1[14][0]                    \n                                                                 lstm_1[15][0]                    \n                                                                 lstm_1[16][0]                    \n                                                                 lstm_1[17][0]                    \n                                                                 lstm_1[18][0]                    \n                                                                 lstm_1[19][0]                    \n                                                                 lstm_1[20][0]                    \n                                                                 lstm_1[21][0]                    \n                                                                 lstm_1[22][0]                    \n                                                                 lstm_1[23][0]                    \n                                                                 lstm_1[24][0]                    \n                                                                 lstm_1[25][0]                    \n                                                                 lstm_1[26][0]                    \n                                                                 lstm_1[27][0]                    \n                                                                 lstm_1[28][0]                    \n                                                                 lstm_1[29][0]                    \n                                                                 lstm_1[30][0]                    \n                                                                 lstm_1[31][0]                    \n                                                                 lstm_1[32][0]                    \n                                                                 lstm_1[33][0]                    \n                                                                 lstm_1[34][0]                    \n                                                                 lstm_1[35][0]                    \n                                                                 lstm_1[36][0]                    \n                                                                 lstm_1[37][0]                    \n                                                                 lstm_1[38][0]                    \n                                                                 lstm_1[39][0]                    \n                                                                 lstm_1[40][0]                    \n                                                                 lstm_1[41][0]                    \n                                                                 lstm_1[42][0]                    \n                                                                 lstm_1[43][0]                    \n                                                                 lstm_1[44][0]                    \n                                                                 lstm_1[45][0]                    \n                                                                 lstm_1[46][0]                    \n                                                                 lstm_1[47][0]                    \n                                                                 lstm_1[48][0]                    \n                                                                 lstm_1[49][0]                    \n                                                                 lstm_1[50][0]                    \n                                                                 lstm_1[51][0]                    \n                                                                 lstm_1[52][0]                    \n                                                                 lstm_1[53][0]                    \n                                                                 lstm_1[54][0]                    \n                                                                 lstm_1[55][0]                    \n                                                                 lstm_1[56][0]                    \n                                                                 lstm_1[57][0]                    \n                                                                 lstm_1[58][0]                    \n                                                                 lstm_1[59][0]                    \n==================================================================================================\nTotal params: 28,099\nTrainable params: 28,099\nNon-trainable params: 0\n__________________________________________________________________________________________________\n"
    }
   ],
   "source": [
    "# Check your model\n",
    "model.summary()"
   ]
  },
  {
   "cell_type": "code",
   "execution_count": 8,
   "metadata": {},
   "outputs": [
    {
     "name": "stdout",
     "output_type": "stream",
     "text": "WARNING:tensorflow:From D:\\application\\ide_env\\anoconda\\lib\\site-packages\\keras\\optimizers.py:790: The name tf.train.Optimizer is deprecated. Please use tf.compat.v1.train.Optimizer instead.\n\n"
    }
   ],
   "source": [
    "opt = Adam(lr=0.01, beta_1=0.9, beta_2=0.999, decay=0.01)\n",
    "\n",
    "model.compile(optimizer=opt, loss='mean_squared_error', metrics=['accuracy'])"
   ]
  },
  {
   "cell_type": "code",
   "execution_count": 9,
   "metadata": {},
   "outputs": [],
   "source": [
    "a0 = np.zeros((m, n_a))\n",
    "c0 = np.zeros((m, n_a))"
   ]
  },
  {
   "cell_type": "code",
   "execution_count": 10,
   "metadata": {},
   "outputs": [
    {
     "name": "stdout",
     "output_type": "stream",
     "text": ": 0.7400 - dense_1_acc_25: 0.8000 - dense_1_acc_26: 0.7400 - dense_1_acc_27: 0.7400 - dense_1_acc_28: 0.7400 - dense_1_acc_29: 0.7200 - dense_1_acc_30: 0.7600 - dense_1_acc_31: 0.7400 - dense_1_acc_32: 0.7000 - dense_1_acc_33: 0.7400 - dense_1_acc_34: 0.7400 - dense_1_acc_35: 0.8000 - dense_1_acc_36: 0.8600 - dense_1_acc_37: 0.8000 - dense_1_acc_38: 0.8400 - dense_1_acc_39: 0.7600 - dense_1_acc_40: 0.7400 - dense_1_acc_41: 0.7600 - dense_1_acc_42: 0.7600 - dense_1_acc_43: 0.8000 - dense_1_acc_44: 0.7600 - dense_1_acc_45: 0.7800 - dense_1_acc_46: 0.8400 - dense_1_acc_47: 0.8600 - dense_1_acc_48: 0.8600 - dense_1_acc_49: 0.7800 - dense_1_acc_50: 0.7400 - dense_1_acc_51: 0.7000 - dense_1_acc_52: 0.7400 - dense_1_acc_53: 0.7800 - dense_1_acc_54: 0.7200 - dense_1_acc_55: 0.7400 - dense_1_acc_56: 0.7200 - dense_1_acc_57: 0.7600 - dense_1_acc_58: 0.7800 - dense_1_acc_59: 0.7600\nEpoch 89/100\n50/50 [==============================] - 1s 12ms/step - loss: 5.4862 - dense_1_loss: 0.0721 - dense_1_acc: 0.5800 - dense_1_acc_1: 0.6200 - dense_1_acc_2: 0.5600 - dense_1_acc_3: 0.6400 - dense_1_acc_4: 0.6600 - dense_1_acc_5: 0.6600 - dense_1_acc_6: 0.6400 - dense_1_acc_7: 0.7000 - dense_1_acc_8: 0.7400 - dense_1_acc_9: 0.7400 - dense_1_acc_10: 0.7200 - dense_1_acc_11: 0.7400 - dense_1_acc_12: 0.7600 - dense_1_acc_13: 0.7800 - dense_1_acc_14: 0.7200 - dense_1_acc_15: 0.7400 - dense_1_acc_16: 0.7600 - dense_1_acc_17: 0.7800 - dense_1_acc_18: 0.8000 - dense_1_acc_19: 0.8400 - dense_1_acc_20: 0.7400 - dense_1_acc_21: 0.7200 - dense_1_acc_22: 0.7000 - dense_1_acc_23: 0.7200 - dense_1_acc_24: 0.7800 - dense_1_acc_25: 0.7400 - dense_1_acc_26: 0.7600 - dense_1_acc_27: 0.7800 - dense_1_acc_28: 0.7800 - dense_1_acc_29: 0.7400 - dense_1_acc_30: 0.7600 - dense_1_acc_31: 0.7400 - dense_1_acc_32: 0.7000 - dense_1_acc_33: 0.7400 - dense_1_acc_34: 0.7400 - dense_1_acc_35: 0.7800 - dense_1_acc_36: 0.8200 - dense_1_acc_37: 0.8200 - dense_1_acc_38: 0.8200 - dense_1_acc_39: 0.7600 - dense_1_acc_40: 0.7400 - dense_1_acc_41: 0.7400 - dense_1_acc_42: 0.7600 - dense_1_acc_43: 0.8000 - dense_1_acc_44: 0.7600 - dense_1_acc_45: 0.7800 - dense_1_acc_46: 0.8400 - dense_1_acc_47: 0.8600 - dense_1_acc_48: 0.8200 - dense_1_acc_49: 0.7600 - dense_1_acc_50: 0.7000 - dense_1_acc_51: 0.7000 - dense_1_acc_52: 0.7400 - dense_1_acc_53: 0.7800 - dense_1_acc_54: 0.7200 - dense_1_acc_55: 0.7400 - dense_1_acc_56: 0.7200 - dense_1_acc_57: 0.7800 - dense_1_acc_58: 0.7600 - dense_1_acc_59: 0.7400\nEpoch 90/100\n50/50 [==============================] - 1s 11ms/step - loss: 5.4170 - dense_1_loss: 0.0707 - dense_1_acc: 0.5800 - dense_1_acc_1: 0.6200 - dense_1_acc_2: 0.5600 - dense_1_acc_3: 0.6400 - dense_1_acc_4: 0.6600 - dense_1_acc_5: 0.7000 - dense_1_acc_6: 0.6400 - dense_1_acc_7: 0.7000 - dense_1_acc_8: 0.7400 - dense_1_acc_9: 0.7400 - dense_1_acc_10: 0.7400 - dense_1_acc_11: 0.7400 - dense_1_acc_12: 0.7600 - dense_1_acc_13: 0.8000 - dense_1_acc_14: 0.7400 - dense_1_acc_15: 0.7200 - dense_1_acc_16: 0.7600 - dense_1_acc_17: 0.7800 - dense_1_acc_18: 0.7800 - dense_1_acc_19: 0.8200 - dense_1_acc_20: 0.7400 - dense_1_acc_21: 0.7400 - dense_1_acc_22: 0.6800 - dense_1_acc_23: 0.7200 - dense_1_acc_24: 0.7800 - dense_1_acc_25: 0.7600 - dense_1_acc_26: 0.7800 - dense_1_acc_27: 0.7800 - dense_1_acc_28: 0.7800 - dense_1_acc_29: 0.7400 - dense_1_acc_30: 0.7600 - dense_1_acc_31: 0.7400 - dense_1_acc_32: 0.7000 - dense_1_acc_33: 0.7400 - dense_1_acc_34: 0.7400 - dense_1_acc_35: 0.8000 - dense_1_acc_36: 0.8400 - dense_1_acc_37: 0.7800 - dense_1_acc_38: 0.8000 - dense_1_acc_39: 0.7600 - dense_1_acc_40: 0.7400 - dense_1_acc_41: 0.7600 - dense_1_acc_42: 0.7600 - dense_1_acc_43: 0.8000 - dense_1_acc_44: 0.7600 - dense_1_acc_45: 0.7800 - dense_1_acc_46: 0.8400 - dense_1_acc_47: 0.8600 - dense_1_acc_48: 0.8200 - dense_1_acc_49: 0.7600 - dense_1_acc_50: 0.7000 - dense_1_acc_51: 0.7000 - dense_1_acc_52: 0.7200 - dense_1_acc_53: 0.7600 - dense_1_acc_54: 0.7200 - dense_1_acc_55: 0.7200 - dense_1_acc_56: 0.7000 - dense_1_acc_57: 0.7600 - dense_1_acc_58: 0.7800 - dense_1_acc_59: 0.7400\nEpoch 91/100\n50/50 [==============================] - 1s 13ms/step - loss: 5.3829 - dense_1_loss: 0.0688 - dense_1_acc: 0.5800 - dense_1_acc_1: 0.6200 - dense_1_acc_2: 0.5600 - dense_1_acc_3: 0.6400 - dense_1_acc_4: 0.6600 - dense_1_acc_5: 0.7200 - dense_1_acc_6: 0.6400 - dense_1_acc_7: 0.7200 - dense_1_acc_8: 0.7400 - dense_1_acc_9: 0.7400 - dense_1_acc_10: 0.7400 - dense_1_acc_11: 0.7400 - dense_1_acc_12: 0.7600 - dense_1_acc_13: 0.7800 - dense_1_acc_14: 0.7400 - dense_1_acc_15: 0.7600 - dense_1_acc_16: 0.7400 - dense_1_acc_17: 0.8000 - dense_1_acc_18: 0.7800 - dense_1_acc_19: 0.8200 - dense_1_acc_20: 0.7400 - dense_1_acc_21: 0.7200 - dense_1_acc_22: 0.6800 - dense_1_acc_23: 0.7200 - dense_1_acc_24: 0.8000 - dense_1_acc_25: 0.8000 - dense_1_acc_26: 0.7800 - dense_1_acc_27: 0.7800 - dense_1_acc_28: 0.7800 - dense_1_acc_29: 0.7400 - dense_1_acc_30: 0.7600 - dense_1_acc_31: 0.7600 - dense_1_acc_32: 0.7200 - dense_1_acc_33: 0.7400 - dense_1_acc_34: 0.7400 - dense_1_acc_35: 0.7800 - dense_1_acc_36: 0.8200 - dense_1_acc_37: 0.8200 - dense_1_acc_38: 0.8400 - dense_1_acc_39: 0.7800 - dense_1_acc_40: 0.7600 - dense_1_acc_41: 0.7400 - dense_1_acc_42: 0.7600 - dense_1_acc_43: 0.8000 - dense_1_acc_44: 0.7800 - dense_1_acc_45: 0.8000 - dense_1_acc_46: 0.8600 - dense_1_acc_47: 0.8800 - dense_1_acc_48: 0.8800 - dense_1_acc_49: 0.8200 - dense_1_acc_50: 0.7200 - dense_1_acc_51: 0.7000 - dense_1_acc_52: 0.7200 - dense_1_acc_53: 0.7600 - dense_1_acc_54: 0.7200 - dense_1_acc_55: 0.7200 - dense_1_acc_56: 0.7200 - dense_1_acc_57: 0.7400 - dense_1_acc_58: 0.7600 - dense_1_acc_59: 0.7400\nEpoch 92/100\n50/50 [==============================] - 1s 15ms/step - loss: 5.2770 - dense_1_loss: 0.0675 - dense_1_acc: 0.5800 - dense_1_acc_1: 0.6200 - dense_1_acc_2: 0.5600 - dense_1_acc_3: 0.6600 - dense_1_acc_4: 0.6600 - dense_1_acc_5: 0.7000 - dense_1_acc_6: 0.6800 - dense_1_acc_7: 0.7000 - dense_1_acc_8: 0.7200 - dense_1_acc_9: 0.7400 - dense_1_acc_10: 0.7200 - dense_1_acc_11: 0.7000 - dense_1_acc_12: 0.7600 - dense_1_acc_13: 0.7600 - dense_1_acc_14: 0.7200 - dense_1_acc_15: 0.7400 - dense_1_acc_16: 0.7600 - dense_1_acc_17: 0.8000 - dense_1_acc_18: 0.7800 - dense_1_acc_19: 0.8200 - dense_1_acc_20: 0.7400 - dense_1_acc_21: 0.7400 - dense_1_acc_22: 0.6800 - dense_1_acc_23: 0.7200 - dense_1_acc_24: 0.7800 - dense_1_acc_25: 0.8000 - dense_1_acc_26: 0.7800 - dense_1_acc_27: 0.7800 - dense_1_acc_28: 0.7800 - dense_1_acc_29: 0.7400 - dense_1_acc_30: 0.7400 - dense_1_acc_31: 0.7600 - dense_1_acc_32: 0.7400 - dense_1_acc_33: 0.7600 - dense_1_acc_34: 0.7400 - dense_1_acc_35: 0.7600 - dense_1_acc_36: 0.7800 - dense_1_acc_37: 0.8000 - dense_1_acc_38: 0.8400 - dense_1_acc_39: 0.7800 - dense_1_acc_40: 0.7600 - dense_1_acc_41: 0.7600 - dense_1_acc_42: 0.7600 - dense_1_acc_43: 0.8200 - dense_1_acc_44: 0.7600 - dense_1_acc_45: 0.7800 - dense_1_acc_46: 0.8400 - dense_1_acc_47: 0.8600 - dense_1_acc_48: 0.8600 - dense_1_acc_49: 0.8000 - dense_1_acc_50: 0.7400 - dense_1_acc_51: 0.7000 - dense_1_acc_52: 0.7200 - dense_1_acc_53: 0.7600 - dense_1_acc_54: 0.7200 - dense_1_acc_55: 0.7400 - dense_1_acc_56: 0.7200 - dense_1_acc_57: 0.7400 - dense_1_acc_58: 0.7400 - dense_1_acc_59: 0.7400\nEpoch 93/100\n50/50 [==============================] - 1s 13ms/step - loss: 5.1961 - dense_1_loss: 0.0669 - dense_1_acc: 0.5800 - dense_1_acc_1: 0.6600 - dense_1_acc_2: 0.5800 - dense_1_acc_3: 0.6600 - dense_1_acc_4: 0.6600 - dense_1_acc_5: 0.6600 - dense_1_acc_6: 0.6600 - dense_1_acc_7: 0.7000 - dense_1_acc_8: 0.7000 - dense_1_acc_9: 0.7400 - dense_1_acc_10: 0.7200 - dense_1_acc_11: 0.7000 - dense_1_acc_12: 0.8000 - dense_1_acc_13: 0.7800 - dense_1_acc_14: 0.7200 - dense_1_acc_15: 0.7200 - dense_1_acc_16: 0.7600 - dense_1_acc_17: 0.8000 - dense_1_acc_18: 0.7800 - dense_1_acc_19: 0.8400 - dense_1_acc_20: 0.7400 - dense_1_acc_21: 0.7400 - dense_1_acc_22: 0.7000 - dense_1_acc_23: 0.7400 - dense_1_acc_24: 0.7800 - dense_1_acc_25: 0.8000 - dense_1_acc_26: 0.7800 - dense_1_acc_27: 0.7800 - dense_1_acc_28: 0.7800 - dense_1_acc_29: 0.7400 - dense_1_acc_30: 0.7400 - dense_1_acc_31: 0.7400 - dense_1_acc_32: 0.7400 - dense_1_acc_33: 0.7600 - dense_1_acc_34: 0.7400 - dense_1_acc_35: 0.7600 - dense_1_acc_36: 0.7800 - dense_1_acc_37: 0.7800 - dense_1_acc_38: 0.8400 - dense_1_acc_39: 0.7600 - dense_1_acc_40: 0.7400 - dense_1_acc_41: 0.7600 - dense_1_acc_42: 0.7800 - dense_1_acc_43: 0.8200 - dense_1_acc_44: 0.7600 - dense_1_acc_45: 0.7800 - dense_1_acc_46: 0.8400 - dense_1_acc_47: 0.8600 - dense_1_acc_48: 0.8600 - dense_1_acc_49: 0.7800 - dense_1_acc_50: 0.7200 - dense_1_acc_51: 0.6800 - dense_1_acc_52: 0.7200 - dense_1_acc_53: 0.7600 - dense_1_acc_54: 0.7200 - dense_1_acc_55: 0.7200 - dense_1_acc_56: 0.7200 - dense_1_acc_57: 0.7200 - dense_1_acc_58: 0.7400 - dense_1_acc_59: 0.7400\nEpoch 94/100\n50/50 [==============================] - 0s 9ms/step - loss: 5.1756 - dense_1_loss: 0.0658 - dense_1_acc: 0.5800 - dense_1_acc_1: 0.6600 - dense_1_acc_2: 0.5800 - dense_1_acc_3: 0.6600 - dense_1_acc_4: 0.6600 - dense_1_acc_5: 0.6400 - dense_1_acc_6: 0.6600 - dense_1_acc_7: 0.6800 - dense_1_acc_8: 0.6800 - dense_1_acc_9: 0.7000 - dense_1_acc_10: 0.7000 - dense_1_acc_11: 0.7200 - dense_1_acc_12: 0.7800 - dense_1_acc_13: 0.7600 - dense_1_acc_14: 0.7200 - dense_1_acc_15: 0.7200 - dense_1_acc_16: 0.7400 - dense_1_acc_17: 0.7800 - dense_1_acc_18: 0.8000 - dense_1_acc_19: 0.8400 - dense_1_acc_20: 0.7600 - dense_1_acc_21: 0.7200 - dense_1_acc_22: 0.6800 - dense_1_acc_23: 0.7200 - dense_1_acc_24: 0.7800 - dense_1_acc_25: 0.7800 - dense_1_acc_26: 0.8000 - dense_1_acc_27: 0.8000 - dense_1_acc_28: 0.7800 - dense_1_acc_29: 0.7600 - dense_1_acc_30: 0.7400 - dense_1_acc_31: 0.7200 - dense_1_acc_32: 0.7400 - dense_1_acc_33: 0.7600 - dense_1_acc_34: 0.7400 - dense_1_acc_35: 0.8000 - dense_1_acc_36: 0.8000 - dense_1_acc_37: 0.7800 - dense_1_acc_38: 0.8400 - dense_1_acc_39: 0.7600 - dense_1_acc_40: 0.7400 - dense_1_acc_41: 0.7600 - dense_1_acc_42: 0.7800 - dense_1_acc_43: 0.8200 - dense_1_acc_44: 0.7600 - dense_1_acc_45: 0.7800 - dense_1_acc_46: 0.8400 - dense_1_acc_47: 0.8600 - dense_1_acc_48: 0.8400 - dense_1_acc_49: 0.7600 - dense_1_acc_50: 0.7200 - dense_1_acc_51: 0.7000 - dense_1_acc_52: 0.7200 - dense_1_acc_53: 0.7800 - dense_1_acc_54: 0.7200 - dense_1_acc_55: 0.7200 - dense_1_acc_56: 0.7000 - dense_1_acc_57: 0.7200 - dense_1_acc_58: 0.7400 - dense_1_acc_59: 0.7400\nEpoch 95/100\n50/50 [==============================] - 1s 12ms/step - loss: 5.1075 - dense_1_loss: 0.0640 - dense_1_acc: 0.5800 - dense_1_acc_1: 0.6600 - dense_1_acc_2: 0.6200 - dense_1_acc_3: 0.6400 - dense_1_acc_4: 0.6600 - dense_1_acc_5: 0.6600 - dense_1_acc_6: 0.6400 - dense_1_acc_7: 0.6800 - dense_1_acc_8: 0.6800 - dense_1_acc_9: 0.7000 - dense_1_acc_10: 0.7000 - dense_1_acc_11: 0.7200 - dense_1_acc_12: 0.8000 - dense_1_acc_13: 0.7800 - dense_1_acc_14: 0.7800 - dense_1_acc_15: 0.7200 - dense_1_acc_16: 0.7400 - dense_1_acc_17: 0.7800 - dense_1_acc_18: 0.8000 - dense_1_acc_19: 0.8400 - dense_1_acc_20: 0.7600 - dense_1_acc_21: 0.7000 - dense_1_acc_22: 0.6800 - dense_1_acc_23: 0.7200 - dense_1_acc_24: 0.7800 - dense_1_acc_25: 0.7800 - dense_1_acc_26: 0.8000 - dense_1_acc_27: 0.7800 - dense_1_acc_28: 0.7800 - dense_1_acc_29: 0.7400 - dense_1_acc_30: 0.7400 - dense_1_acc_31: 0.7400 - dense_1_acc_32: 0.7400 - dense_1_acc_33: 0.7600 - dense_1_acc_34: 0.7400 - dense_1_acc_35: 0.8000 - dense_1_acc_36: 0.8000 - dense_1_acc_37: 0.7800 - dense_1_acc_38: 0.8200 - dense_1_acc_39: 0.7600 - dense_1_acc_40: 0.7400 - dense_1_acc_41: 0.7600 - dense_1_acc_42: 0.7600 - dense_1_acc_43: 0.8200 - dense_1_acc_44: 0.7800 - dense_1_acc_45: 0.8000 - dense_1_acc_46: 0.8600 - dense_1_acc_47: 0.8800 - dense_1_acc_48: 0.8600 - dense_1_acc_49: 0.8000 - dense_1_acc_50: 0.7400 - dense_1_acc_51: 0.7200 - dense_1_acc_52: 0.7400 - dense_1_acc_53: 0.8000 - dense_1_acc_54: 0.7200 - dense_1_acc_55: 0.7200 - dense_1_acc_56: 0.7000 - dense_1_acc_57: 0.7200 - dense_1_acc_58: 0.7400 - dense_1_acc_59: 0.7400\nEpoch 96/100\n50/50 [==============================] - 1s 14ms/step - loss: 5.0494 - dense_1_loss: 0.0623 - dense_1_acc: 0.5800 - dense_1_acc_1: 0.6600 - dense_1_acc_2: 0.6200 - dense_1_acc_3: 0.6400 - dense_1_acc_4: 0.6400 - dense_1_acc_5: 0.6600 - dense_1_acc_6: 0.6400 - dense_1_acc_7: 0.7000 - dense_1_acc_8: 0.7000 - dense_1_acc_9: 0.7200 - dense_1_acc_10: 0.7200 - dense_1_acc_11: 0.7200 - dense_1_acc_12: 0.8200 - dense_1_acc_13: 0.7800 - dense_1_acc_14: 0.7800 - dense_1_acc_15: 0.7600 - dense_1_acc_16: 0.7600 - dense_1_acc_17: 0.8000 - dense_1_acc_18: 0.7800 - dense_1_acc_19: 0.8400 - dense_1_acc_20: 0.7600 - dense_1_acc_21: 0.7200 - dense_1_acc_22: 0.6800 - dense_1_acc_23: 0.7600 - dense_1_acc_24: 0.7800 - dense_1_acc_25: 0.7800 - dense_1_acc_26: 0.8000 - dense_1_acc_27: 0.7800 - dense_1_acc_28: 0.7800 - dense_1_acc_29: 0.7400 - dense_1_acc_30: 0.7600 - dense_1_acc_31: 0.7600 - dense_1_acc_32: 0.7400 - dense_1_acc_33: 0.7600 - dense_1_acc_34: 0.7600 - dense_1_acc_35: 0.8200 - dense_1_acc_36: 0.8000 - dense_1_acc_37: 0.7600 - dense_1_acc_38: 0.8200 - dense_1_acc_39: 0.7600 - dense_1_acc_40: 0.7400 - dense_1_acc_41: 0.7800 - dense_1_acc_42: 0.7600 - dense_1_acc_43: 0.8200 - dense_1_acc_44: 0.7800 - dense_1_acc_45: 0.8000 - dense_1_acc_46: 0.8600 - dense_1_acc_47: 0.8800 - dense_1_acc_48: 0.8800 - dense_1_acc_49: 0.8000 - dense_1_acc_50: 0.7400 - dense_1_acc_51: 0.7200 - dense_1_acc_52: 0.7400 - dense_1_acc_53: 0.8000 - dense_1_acc_54: 0.7400 - dense_1_acc_55: 0.7400 - dense_1_acc_56: 0.7000 - dense_1_acc_57: 0.7400 - dense_1_acc_58: 0.7400 - dense_1_acc_59: 0.7400\nEpoch 97/100\n50/50 [==============================] - 1s 14ms/step - loss: 4.9756 - dense_1_loss: 0.0617 - dense_1_acc: 0.5800 - dense_1_acc_1: 0.6600 - dense_1_acc_2: 0.6200 - dense_1_acc_3: 0.6400 - dense_1_acc_4: 0.6400 - dense_1_acc_5: 0.6600 - dense_1_acc_6: 0.6800 - dense_1_acc_7: 0.7000 - dense_1_acc_8: 0.7200 - dense_1_acc_9: 0.7400 - dense_1_acc_10: 0.7400 - dense_1_acc_11: 0.7200 - dense_1_acc_12: 0.8000 - dense_1_acc_13: 0.7800 - dense_1_acc_14: 0.7800 - dense_1_acc_15: 0.7400 - dense_1_acc_16: 0.7600 - dense_1_acc_17: 0.8000 - dense_1_acc_18: 0.7800 - dense_1_acc_19: 0.8200 - dense_1_acc_20: 0.7400 - dense_1_acc_21: 0.7200 - dense_1_acc_22: 0.6800 - dense_1_acc_23: 0.7400 - dense_1_acc_24: 0.7800 - dense_1_acc_25: 0.7800 - dense_1_acc_26: 0.8000 - dense_1_acc_27: 0.7800 - dense_1_acc_28: 0.7800 - dense_1_acc_29: 0.7400 - dense_1_acc_30: 0.7400 - dense_1_acc_31: 0.7600 - dense_1_acc_32: 0.7600 - dense_1_acc_33: 0.7600 - dense_1_acc_34: 0.7600 - dense_1_acc_35: 0.8000 - dense_1_acc_36: 0.8000 - dense_1_acc_37: 0.7600 - dense_1_acc_38: 0.8200 - dense_1_acc_39: 0.7600 - dense_1_acc_40: 0.7400 - dense_1_acc_41: 0.7600 - dense_1_acc_42: 0.7800 - dense_1_acc_43: 0.8200 - dense_1_acc_44: 0.7800 - dense_1_acc_45: 0.8000 - dense_1_acc_46: 0.8600 - dense_1_acc_47: 0.8800 - dense_1_acc_48: 0.8800 - dense_1_acc_49: 0.8200 - dense_1_acc_50: 0.7400 - dense_1_acc_51: 0.7000 - dense_1_acc_52: 0.7400 - dense_1_acc_53: 0.8000 - dense_1_acc_54: 0.7400 - dense_1_acc_55: 0.7400 - dense_1_acc_56: 0.7000 - dense_1_acc_57: 0.7400 - dense_1_acc_58: 0.7400 - dense_1_acc_59: 0.7400\nEpoch 98/100\n50/50 [==============================] - 1s 12ms/step - loss: 4.9560 - dense_1_loss: 0.0628 - dense_1_acc: 0.5800 - dense_1_acc_1: 0.6400 - dense_1_acc_2: 0.5800 - dense_1_acc_3: 0.6400 - dense_1_acc_4: 0.6400 - dense_1_acc_5: 0.6400 - dense_1_acc_6: 0.6600 - dense_1_acc_7: 0.7000 - dense_1_acc_8: 0.7200 - dense_1_acc_9: 0.7400 - dense_1_acc_10: 0.7400 - dense_1_acc_11: 0.7200 - dense_1_acc_12: 0.8000 - dense_1_acc_13: 0.7800 - dense_1_acc_14: 0.7400 - dense_1_acc_15: 0.7200 - dense_1_acc_16: 0.7400 - dense_1_acc_17: 0.8000 - dense_1_acc_18: 0.7800 - dense_1_acc_19: 0.8200 - dense_1_acc_20: 0.7200 - dense_1_acc_21: 0.7400 - dense_1_acc_22: 0.7000 - dense_1_acc_23: 0.7200 - dense_1_acc_24: 0.7800 - dense_1_acc_25: 0.7800 - dense_1_acc_26: 0.8000 - dense_1_acc_27: 0.7800 - dense_1_acc_28: 0.7800 - dense_1_acc_29: 0.7200 - dense_1_acc_30: 0.7400 - dense_1_acc_31: 0.7400 - dense_1_acc_32: 0.7200 - dense_1_acc_33: 0.7800 - dense_1_acc_34: 0.7600 - dense_1_acc_35: 0.8000 - dense_1_acc_36: 0.8400 - dense_1_acc_37: 0.7800 - dense_1_acc_38: 0.8200 - dense_1_acc_39: 0.7600 - dense_1_acc_40: 0.7400 - dense_1_acc_41: 0.7800 - dense_1_acc_42: 0.7800 - dense_1_acc_43: 0.8400 - dense_1_acc_44: 0.7800 - dense_1_acc_45: 0.8000 - dense_1_acc_46: 0.8600 - dense_1_acc_47: 0.8800 - dense_1_acc_48: 0.8800 - dense_1_acc_49: 0.7800 - dense_1_acc_50: 0.7400 - dense_1_acc_51: 0.7000 - dense_1_acc_52: 0.7400 - dense_1_acc_53: 0.8000 - dense_1_acc_54: 0.7400 - dense_1_acc_55: 0.7400 - dense_1_acc_56: 0.7200 - dense_1_acc_57: 0.7400 - dense_1_acc_58: 0.7400 - dense_1_acc_59: 0.7400\nEpoch 99/100\n50/50 [==============================] - 1s 15ms/step - loss: 4.9023 - dense_1_loss: 0.0624 - dense_1_acc: 0.5800 - dense_1_acc_1: 0.6600 - dense_1_acc_2: 0.6000 - dense_1_acc_3: 0.6600 - dense_1_acc_4: 0.6400 - dense_1_acc_5: 0.6600 - dense_1_acc_6: 0.6600 - dense_1_acc_7: 0.7200 - dense_1_acc_8: 0.7200 - dense_1_acc_9: 0.7400 - dense_1_acc_10: 0.7400 - dense_1_acc_11: 0.7200 - dense_1_acc_12: 0.7800 - dense_1_acc_13: 0.8000 - dense_1_acc_14: 0.7400 - dense_1_acc_15: 0.7200 - dense_1_acc_16: 0.7400 - dense_1_acc_17: 0.8000 - dense_1_acc_18: 0.7800 - dense_1_acc_19: 0.8400 - dense_1_acc_20: 0.7400 - dense_1_acc_21: 0.7400 - dense_1_acc_22: 0.7000 - dense_1_acc_23: 0.7400 - dense_1_acc_24: 0.7800 - dense_1_acc_25: 0.7800 - dense_1_acc_26: 0.8000 - dense_1_acc_27: 0.7800 - dense_1_acc_28: 0.7800 - dense_1_acc_29: 0.7400 - dense_1_acc_30: 0.7600 - dense_1_acc_31: 0.7600 - dense_1_acc_32: 0.7400 - dense_1_acc_33: 0.7800 - dense_1_acc_34: 0.7800 - dense_1_acc_35: 0.8000 - dense_1_acc_36: 0.8000 - dense_1_acc_37: 0.7600 - dense_1_acc_38: 0.8200 - dense_1_acc_39: 0.7600 - dense_1_acc_40: 0.7400 - dense_1_acc_41: 0.7800 - dense_1_acc_42: 0.7800 - dense_1_acc_43: 0.8200 - dense_1_acc_44: 0.7800 - dense_1_acc_45: 0.8000 - dense_1_acc_46: 0.8600 - dense_1_acc_47: 0.8800 - dense_1_acc_48: 0.8800 - dense_1_acc_49: 0.7800 - dense_1_acc_50: 0.7400 - dense_1_acc_51: 0.7200 - dense_1_acc_52: 0.7400 - dense_1_acc_53: 0.8000 - dense_1_acc_54: 0.7400 - dense_1_acc_55: 0.7400 - dense_1_acc_56: 0.7400 - dense_1_acc_57: 0.7600 - dense_1_acc_58: 0.7600 - dense_1_acc_59: 0.7400\nEpoch 100/100\n50/50 [==============================] - 1s 11ms/step - loss: 4.8377 - dense_1_loss: 0.0618 - dense_1_acc: 0.5600 - dense_1_acc_1: 0.6600 - dense_1_acc_2: 0.6400 - dense_1_acc_3: 0.6600 - dense_1_acc_4: 0.6400 - dense_1_acc_5: 0.6600 - dense_1_acc_6: 0.6600 - dense_1_acc_7: 0.7000 - dense_1_acc_8: 0.7000 - dense_1_acc_9: 0.7400 - dense_1_acc_10: 0.7400 - dense_1_acc_11: 0.7000 - dense_1_acc_12: 0.8000 - dense_1_acc_13: 0.8000 - dense_1_acc_14: 0.7600 - dense_1_acc_15: 0.7200 - dense_1_acc_16: 0.7400 - dense_1_acc_17: 0.7800 - dense_1_acc_18: 0.8000 - dense_1_acc_19: 0.8400 - dense_1_acc_20: 0.7400 - dense_1_acc_21: 0.7400 - dense_1_acc_22: 0.7000 - dense_1_acc_23: 0.7600 - dense_1_acc_24: 0.7800 - dense_1_acc_25: 0.7800 - dense_1_acc_26: 0.8000 - dense_1_acc_27: 0.7800 - dense_1_acc_28: 0.7800 - dense_1_acc_29: 0.7400 - dense_1_acc_30: 0.7600 - dense_1_acc_31: 0.7600 - dense_1_acc_32: 0.7600 - dense_1_acc_33: 0.8000 - dense_1_acc_34: 0.7600 - dense_1_acc_35: 0.8000 - dense_1_acc_36: 0.7800 - dense_1_acc_37: 0.7400 - dense_1_acc_38: 0.8200 - dense_1_acc_39: 0.7600 - dense_1_acc_40: 0.7400 - dense_1_acc_41: 0.7800 - dense_1_acc_42: 0.7800 - dense_1_acc_43: 0.8200 - dense_1_acc_44: 0.7800 - dense_1_acc_45: 0.8000 - dense_1_acc_46: 0.8600 - dense_1_acc_47: 0.8800 - dense_1_acc_48: 0.8800 - dense_1_acc_49: 0.7800 - dense_1_acc_50: 0.7400 - dense_1_acc_51: 0.7200 - dense_1_acc_52: 0.7400 - dense_1_acc_53: 0.8000 - dense_1_acc_54: 0.7400 - dense_1_acc_55: 0.7400 - dense_1_acc_56: 0.7400 - dense_1_acc_57: 0.7600 - dense_1_acc_58: 0.7400 - dense_1_acc_59: 0.7400\n"
    },
    {
     "data": {
      "text/plain": "<keras.callbacks.History at 0x2888eb849b0>"
     },
     "execution_count": 10,
     "metadata": {},
     "output_type": "execute_result"
    }
   ],
   "source": [
    "model.fit([X, a0, c0], list(Y), epochs=100)"
   ]
  },
  {
   "cell_type": "code",
   "execution_count": 11,
   "metadata": {},
   "outputs": [],
   "source": [
    "def ball_inference_model(LSTM_cell, densor, n_X = 44, n_Y = 3, n_a = 64, Ty = 60):\n",
    "    \"\"\"\n",
    "    Uses the trained \"LSTM_cell\" and \"densor\" from model() to generate a sequence of values.\n",
    "    \n",
    "    Arguments:\n",
    "    LSTM_cell -- the trained \"LSTM_cell\" from model(), Keras layer object\n",
    "    densor -- the trained \"densor\" from model(), Keras layer object\n",
    "    n_X -- number of features of x\n",
    "    n_Y -- number of features of y\n",
    "    n_a -- number of units in the LSTM_cell\n",
    "    Ty -- integer, number of time steps to generate\n",
    "    \n",
    "    Returns:\n",
    "    inference_model -- Keras model instance\n",
    "    \"\"\"\n",
    "    \n",
    "    # Define the input layer and specify the shape\n",
    "    X = Input(shape=(Tx, n_X))\n",
    "    \n",
    "    # Define the initial hidden state a0 and initial cell state c0\n",
    "    # using `Input`\n",
    "    a0 = Input(shape=(n_a,), name='a0')\n",
    "    c0 = Input(shape=(n_a,), name='c0')\n",
    "    a = a0\n",
    "    c = c0\n",
    "    \n",
    "    ### START CODE HERE ### \n",
    "    # Step 1: Create empty list to append the outputs while you iterate (≈1 line)\n",
    "    outputs = list()\n",
    "    \n",
    "    # Step 2: Loop\n",
    "    for t in range(Tx):\n",
    "        \n",
    "        # Step 2.A: select the \"t\"th time step vector from X. \n",
    "        x = Lambda(lambda X : X[:, t, :] ) (X)\n",
    "        # Step 2.B: Use reshapor to reshape x to be (1, n_X) (≈1 line)\n",
    "        x = reshapor(x)\n",
    "        # Step 2.C: Perform one step of the LSTM_cell\n",
    "        a, _, c =  LSTM_cell(inputs=x, initial_state=[a, c])\n",
    "        # Step 2.D: Apply densor to the hidden state output of LSTM_Cell\n",
    "        out = densor(a)\n",
    "        # Step 2.E: add the output to \"outputs\"\n",
    "        outputs.append(out)\n",
    "        \n",
    "    # Step 3: Create model instance\n",
    "    model = Model(inputs=[X, a0, c0], outputs=outputs)\n",
    "    \n",
    "    ### END CODE HERE ###\n",
    "    \n",
    "    return model"
   ]
  },
  {
   "cell_type": "code",
   "execution_count": 12,
   "metadata": {},
   "outputs": [],
   "source": [
    "inference_model = ball_inference_model(LSTM_cell, densor)"
   ]
  },
  {
   "cell_type": "code",
   "execution_count": 39,
   "metadata": {},
   "outputs": [
    {
     "name": "stdout",
     "output_type": "stream",
     "text": "X_shape:  (50, 60, 44)\nY_shape:  (60, 50, 3)\n"
    }
   ],
   "source": [
    "X_test, Y_test, _, _, _, _ = get_XY(dump_path='/projects/research/football/dumps/episode_done_20200105-190120854468.dump')\n",
    "Y_test = Y_test.transpose(1, 0, 2)\n",
    "a_initializer = np.zeros((1, n_a))\n",
    "c_initializer = np.zeros((1, n_a))\n",
    "\n",
    "print('X_shape: ', X_test.shape)\n",
    "print('Y_shape: ', Y_test.shape)"
   ]
  },
  {
   "cell_type": "code",
   "execution_count": 49,
   "metadata": {},
   "outputs": [],
   "source": [
    "def predict(inference_model, X_initializer = X_test, a_initializer = a_initializer, \n",
    "                       c_initializer = c_initializer):\n",
    "    \"\"\"\n",
    "    Predicts the next value of values using the inference model.\n",
    "    \n",
    "    Arguments:\n",
    "    inference_model -- Keras model instance for inference time\n",
    "    X_initializer -- numpy array of shape (m, Ty, n_X)\n",
    "    a_initializer -- numpy array of shape (1, n_a), initializing the hidden state of the LSTM_cell\n",
    "    c_initializer -- numpy array of shape (1, n_a), initializing the cell state of the LSTM_cel\n",
    "    \n",
    "    Returns:\n",
    "    y_pres -- numpy-array of shape (Ty, n_Y), matrix of vectors representing the values generated\n",
    "    \"\"\"\n",
    "    \n",
    "    ### START CODE HERE ###\n",
    "    # Step 1: Use your inference model to predict an output sequence given X_initializer, a_initializer and c_initializer.\n",
    "    Y_preds = inference_model.predict([X_initializer, a_initializer, c_initializer])\n",
    "\n",
    "    return Y_preds"
   ]
  },
  {
   "cell_type": "code",
   "execution_count": 55,
   "metadata": {},
   "outputs": [
    {
     "name": "stdout",
     "output_type": "stream",
     "text": "[array([[ 0.15187585, -0.00689974,  0.8667962 ]], dtype=float32), array([[0.20149781, 0.02874899, 1.1510745 ]], dtype=float32), array([[0.24600223, 0.04976754, 1.1168883 ]], dtype=float32), array([[0.2881288 , 0.05319475, 0.93645203]], dtype=float32), array([[0.3223062 , 0.04146112, 0.7542374 ]], dtype=float32), array([[0.3447703 , 0.02078757, 0.6158161 ]], dtype=float32), array([[ 0.35591882, -0.002514  ,  0.5181174 ]], dtype=float32), array([[ 0.3589748 , -0.02421459,  0.45267272]], dtype=float32), array([[ 0.35688776, -0.04216042,  0.41026115]], dtype=float32), array([[ 0.35192725, -0.05650884,  0.38275388]], dtype=float32), array([[ 0.34654537, -0.06784746,  0.36125875]], dtype=float32), array([[ 0.34443697, -0.07664467,  0.33917785]], dtype=float32), array([[ 0.3474037, -0.0824991,  0.3129217]], dtype=float32), array([[ 0.3531766 , -0.08689088,  0.2827746 ]], dtype=float32), array([[ 0.35906163, -0.08979778,  0.24980056]], dtype=float32), array([[ 0.36265674, -0.09013281,  0.21915253]], dtype=float32), array([[ 0.36236972, -0.08693158,  0.19340004]], dtype=float32), array([[ 0.35751182, -0.08210754,  0.17915672]], dtype=float32), array([[ 0.35094523, -0.07785129,  0.18159783]], dtype=float32), array([[ 0.34387168, -0.07260156,  0.19767635]], dtype=float32), array([[ 0.3342962 , -0.06483467,  0.21616013]], dtype=float32), array([[ 0.32311454, -0.05427089,  0.22891362]], dtype=float32), array([[ 0.31313726, -0.04203361,  0.23939893]], dtype=float32), array([[ 0.30579543, -0.03087845,  0.25064415]], dtype=float32), array([[ 0.3006038 , -0.02139306,  0.2609037 ]], dtype=float32), array([[ 0.29624456, -0.01260654,  0.26876137]], dtype=float32), array([[ 0.29112363, -0.00414477,  0.27430376]], dtype=float32), array([[0.28512076, 0.00384402, 0.2781782 ]], dtype=float32), array([[0.27874026, 0.01263941, 0.27851224]], dtype=float32), array([[0.27182537, 0.02294689, 0.27275345]], dtype=float32), array([[0.26410797, 0.03303519, 0.26086318]], dtype=float32), array([[0.25717714, 0.04223369, 0.24405713]], dtype=float32), array([[0.25258467, 0.05061622, 0.22846948]], dtype=float32), array([[0.24885702, 0.05805536, 0.21694317]], dtype=float32), array([[0.24677148, 0.06380409, 0.206088  ]], dtype=float32), array([[0.24766585, 0.06742515, 0.1895789 ]], dtype=float32), array([[0.25204557, 0.06983294, 0.16894566]], dtype=float32), array([[0.25783664, 0.07139945, 0.1456727 ]], dtype=float32), array([[0.26489103, 0.07156155, 0.12114138]], dtype=float32), array([[0.2736788 , 0.07144137, 0.09198102]], dtype=float32), array([[0.28359902, 0.07152524, 0.05455992]], dtype=float32), array([[0.29423082, 0.07091261, 0.01099734]], dtype=float32), array([[ 0.3036469 ,  0.07031723, -0.02675997]], dtype=float32), array([[ 0.31057313,  0.07061862, -0.05115744]], dtype=float32), array([[ 0.31495228,  0.0718789 , -0.06185105]], dtype=float32), array([[ 0.3165098 ,  0.07350899, -0.06188017]], dtype=float32), array([[ 0.3172102 ,  0.07553361, -0.05662462]], dtype=float32), array([[ 0.3170748 ,  0.07783692, -0.0514321 ]], dtype=float32), array([[ 0.31635183,  0.08088256, -0.04515138]], dtype=float32), array([[ 0.31679818,  0.08483645, -0.03397721]], dtype=float32), array([[ 0.31776336,  0.08925078, -0.01871976]], dtype=float32), array([[ 0.31891498,  0.09353424, -0.00070073]], dtype=float32), array([[0.32018802, 0.09751423, 0.01950352]], dtype=float32), array([[0.32089862, 0.1012499 , 0.04181917]], dtype=float32), array([[0.31934714, 0.10515877, 0.06618674]], dtype=float32), array([[0.31672916, 0.10868591, 0.09203061]], dtype=float32), array([[0.31385663, 0.11171844, 0.12093677]], dtype=float32), array([[0.31027266, 0.11500742, 0.15316379]], dtype=float32), array([[0.3041486 , 0.11841957, 0.18247113]], dtype=float32), array([[0.2951509 , 0.12324204, 0.20999536]], dtype=float32)]\n"
    }
   ],
   "source": [
    "Y_preds = predict(inference_model, X_test[0].reshape(1, X_test.shape[1], X_test.shape[2]), a_initializer, c_initializer)\n",
    "\n",
    "print(Y_preds)"
   ]
  },
  {
   "cell_type": "code",
   "execution_count": 60,
   "metadata": {},
   "outputs": [
    {
     "name": "stdout",
     "output_type": "stream",
     "text": "60\n(60, 50, 3)\n0.16294336097136072\n"
    }
   ],
   "source": [
    "print(len(Y_preds))\n",
    "print(Y_test.shape)\n",
    "error = np.mean(np.square(Y_preds - Y_test[:,0,:]))\n",
    "print(error)"
   ]
  },
  {
   "cell_type": "code",
   "execution_count": null,
   "metadata": {},
   "outputs": [],
   "source": []
  }
 ]
}