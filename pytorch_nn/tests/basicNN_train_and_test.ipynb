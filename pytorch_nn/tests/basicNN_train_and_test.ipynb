{
 "nbformat": 4,
 "nbformat_minor": 2,
 "metadata": {
  "language_info": {
   "name": "python",
   "codemirror_mode": {
    "name": "ipython",
    "version": 3
   },
   "version": "3.7.6-final"
  },
  "orig_nbformat": 2,
  "file_extension": ".py",
  "mimetype": "text/x-python",
  "name": "python",
  "npconvert_exporter": "python",
  "pygments_lexer": "ipython3",
  "version": 3,
  "kernelspec": {
   "name": "python3",
   "display_name": "Python 3"
  }
 },
 "cells": [
  {
   "cell_type": "code",
   "execution_count": 4,
   "metadata": {},
   "outputs": [
    {
     "name": "stdout",
     "output_type": "stream",
     "text": "basicNN_1\n"
    }
   ],
   "source": [
    "# The root path of the project\n",
    "WORKING_DIR = '/projects/research/football/pytorch_nn'\n",
    "import os\n",
    "os.chdir(WORKING_DIR)\n",
    "\n",
    "# The path to save and load model\n",
    "MODEL_SAVE_PATH = '/projects/research/football/pytorch_nn/models/basicNN_model.ckpt'\n",
    "\n",
    "# The root_path to save logs\n",
    "LOG_FILE_ROOT = '/projects/research/football/pytorch_nn/logs'\n",
    "LOG_FILE_NAME = 'basicNN_%d' % 1\n",
    "print(LOG_FILE_NAME)"
   ]
  },
  {
   "cell_type": "code",
   "execution_count": 2,
   "metadata": {},
   "outputs": [],
   "source": [
    "from dataset import FootballDataset,FootballDisplay\n",
    "from dataset.transforms import *\n",
    "from nn import BasicNN\n",
    "from nntest import TestLogger\n",
    "\n",
    "import torch\n",
    "import torch.nn as nn\n",
    "from torch.utils.data import DataLoader\n",
    "from torchvision import transforms, utils\n",
    "\n",
    "# jupyter\n",
    "import imp\n",
    "import nntest\n",
    "imp.reload(nntest)\n",
    "from nntest import TestLogger"
   ]
  },
  {
   "cell_type": "code",
   "execution_count": 4,
   "metadata": {},
   "outputs": [
    {
     "name": "stdout",
     "output_type": "stream",
     "text": "cuda\n"
    }
   ],
   "source": [
    "# Device configuration\n",
    "device = torch.device('cuda' if torch.cuda.is_available() else 'cpu')\n",
    "\n",
    "# anomaly detection\n",
    "anomaly_threshold = 0.03\n",
    "# Hyper-parameters\n",
    "batch_size = 4\n",
    "num_epochs = 2\n",
    "learning_rate = 0.01\n",
    "# model\n",
    "input_size = 44\n",
    "hidden_size = 500\n",
    "output_size = 2\n",
    "\n",
    "print(device)"
   ]
  },
  {
   "cell_type": "code",
   "execution_count": null,
   "metadata": {},
   "outputs": [],
   "source": [
    "train_dataset = FootballDataset(train=True, \n",
    "                                transform=transforms.Compose([ToTensor(),\n",
    "                                                            YTo2D()]))\n",
    "test_dataset = FootballDataset(train=False,\n",
    "                               transform=transforms.Compose([ToTensor(),\n",
    "                                                            YTo2D()]))"
   ]
  },
  {
   "cell_type": "code",
   "execution_count": null,
   "metadata": {},
   "outputs": [],
   "source": [
    "# Data loader\n",
    "train_loader = DataLoader(dataset=train_dataset,\n",
    "                         batch_size=batch_size,\n",
    "                         shuffle=True)\n",
    "test_loader = DataLoader(dataset=test_dataset,\n",
    "                         batch_size=1,\n",
    "                         shuffle=False)"
   ]
  },
  {
   "cell_type": "code",
   "execution_count": null,
   "metadata": {},
   "outputs": [],
   "source": [
    "model = BasicNN(input_size, hidden_size, output_size).to(device)\n",
    "model.load_state_dict(torch.load(MODEL_SAVE_PATH))"
   ]
  },
  {
   "cell_type": "code",
   "execution_count": null,
   "metadata": {},
   "outputs": [],
   "source": [
    "# Loss and optimizer\n",
    "criterion = nn.MSELoss()\n",
    "optimizer = torch.optim.Adam(model.parameters(), lr=learning_rate)"
   ]
  },
  {
   "cell_type": "code",
   "execution_count": null,
   "metadata": {},
   "outputs": [],
   "source": [
    "# Train the model\n",
    "total_step = len(train_loader)\n",
    "for epoch in range(num_epochs):\n",
    "    for i, sample_batched in enumerate(train_loader):\n",
    "        Xs, Ys = sample_batched['X'], sample_batched['Y']\n",
    "        \n",
    "        running_loss = 0\n",
    "        total = 0\n",
    "        for j in range(train_dataset.Tx):\n",
    "            # Move tensors to the configured device\n",
    "            X = Xs[:, j, :].to(device)\n",
    "            Y = Ys[:, j, :].to(device)\n",
    "\n",
    "            # Forward pass\n",
    "            outputs = model(X)\n",
    "            loss = criterion(outputs, Y)\n",
    "            running_loss += loss.item()\n",
    "            total += X.shape[0]\n",
    "\n",
    "            # Backward and optimize\n",
    "            optimizer.zero_grad()\n",
    "            loss.backward()\n",
    "            optimizer.step()\n",
    "\n",
    "        if (i + 1) % 100 == 0:\n",
    "            print('Epoch [{}/{}], Step [{}/{}], Loss: {:.4f}'.format(\n",
    "                epoch + 1, num_epochs, i + 1, total_step, running_loss / total))\n"
   ]
  },
  {
   "cell_type": "code",
   "execution_count": null,
   "metadata": {},
   "outputs": [
    {
     "name": "stdout",
     "output_type": "stream",
     "text": "vice='cuda:0')\nloss[992][2]: 0.043589\ntensor([[ 0.4114, -0.0262]], device='cuda:0')\ntensor([[0.1499, 0.1108]], device='cuda:0')\nloss[992][3]: 0.045507\ntensor([[ 0.4223, -0.0273]], device='cuda:0')\ntensor([[0.1553, 0.1133]], device='cuda:0')\nloss[992][4]: 0.047073\ntensor([[ 0.4314, -0.0282]], device='cuda:0')\ntensor([[0.1613, 0.1176]], device='cuda:0')\nloss[992][5]: 0.048080\ntensor([[ 0.4382, -0.0288]], device='cuda:0')\ntensor([[0.1670, 0.1215]], device='cuda:0')\nloss[992][6]: 0.048023\ntensor([[ 0.4410, -0.0291]], device='cuda:0')\ntensor([[0.1723, 0.1253]], device='cuda:0')\nloss[992][7]: 0.047188\ntensor([[ 0.4419, -0.0292]], device='cuda:0')\ntensor([[0.1784, 0.1287]], device='cuda:0')\nloss[992][8]: 0.045733\ntensor([[ 0.4427, -0.0293]], device='cuda:0')\ntensor([[0.1866, 0.1317]], device='cuda:0')\nloss[992][9]: 0.044418\ntensor([[ 0.4433, -0.0293]], device='cuda:0')\ntensor([[0.1943, 0.1345]], device='cuda:0')\nloss[992][10]: 0.043042\ntensor([[ 0.4432, -0.0293]], device='cuda:0')\ntensor([[0.2016, 0.1372]], device='cuda:0')\nloss[992][11]: 0.041808\ntensor([[ 0.4431, -0.0293]], device='cuda:0')\ntensor([[0.2085, 0.1396]], device='cuda:0')\nloss[992][12]: 0.039461\ntensor([[ 0.4421, -0.0292]], device='cuda:0')\ntensor([[0.2179, 0.1401]], device='cuda:0')\nloss[992][13]: 0.036819\ntensor([[ 0.4430, -0.0293]], device='cuda:0')\ntensor([[0.2299, 0.1386]], device='cuda:0')\nloss[992][14]: 0.034341\ntensor([[ 0.4432, -0.0293]], device='cuda:0')\ntensor([[0.2409, 0.1373]], device='cuda:0')\nloss[992][15]: 0.032193\ntensor([[ 0.4438, -0.0294]], device='cuda:0')\ntensor([[0.2514, 0.1361]], device='cuda:0')\nloss[992][16]: 0.030112\ntensor([[ 0.4436, -0.0294]], device='cuda:0')\ntensor([[0.2612, 0.1349]], device='cuda:0')\nloss[992][44]: 0.030049\ntensor([[ 0.4870, -0.0337]], device='cuda:0')\ntensor([[0.6405, 0.1574]], device='cuda:0')\nloss[992][45]: 0.030662\ntensor([[ 0.5023, -0.0352]], device='cuda:0')\ntensor([[0.6533, 0.1610]], device='cuda:0')\nloss[992][46]: 0.030917\ntensor([[ 0.5195, -0.0369]], device='cuda:0')\ntensor([[0.6654, 0.1644]], device='cuda:0')\nloss[992][47]: 0.030847\ntensor([[ 0.5388, -0.0388]], device='cuda:0')\ntensor([[0.6768, 0.1677]], device='cuda:0')\nloss[992][48]: 0.030559\ntensor([[ 0.5599, -0.0409]], device='cuda:0')\ntensor([[0.6876, 0.1707]], device='cuda:0')\nloss[992][49]: 0.030235\ntensor([[ 0.5815, -0.0431]], device='cuda:0')\ntensor([[0.6978, 0.1736]], device='cuda:0')\nloss[992][50]: 0.030691\ntensor([[ 0.6039, -0.0453]], device='cuda:0')\ntensor([[0.7110, 0.1781]], device='cuda:0')\nloss[992][51]: 0.031383\ntensor([[ 0.6267, -0.0476]], device='cuda:0')\ntensor([[0.7249, 0.1829]], device='cuda:0')\nloss[992][52]: 0.032102\ntensor([[ 0.6506, -0.0500]], device='cuda:0')\ntensor([[0.7378, 0.1879]], device='cuda:0')\nloss[992][53]: 0.033091\ntensor([[ 0.6746, -0.0524]], device='cuda:0')\ntensor([[0.7501, 0.1936]], device='cuda:0')\nloss[992][54]: 0.034209\ntensor([[ 0.6983, -0.0547]], device='cuda:0')\ntensor([[0.7619, 0.1990]], device='cuda:0')\nloss[992][55]: 0.035392\ntensor([[ 0.7212, -0.0570]], device='cuda:0')\ntensor([[0.7728, 0.2040]], device='cuda:0')\nloss[992][56]: 0.036604\ntensor([[ 0.7395, -0.0588]], device='cuda:0')\ntensor([[0.7805, 0.2086]], device='cuda:0')\nloss[992][57]: 0.037763\ntensor([[ 0.7566, -0.0605]], device='cuda:0')\ntensor([[0.7841, 0.2129]], device='cuda:0')\nloss[992][58]: 0.039065\ntensor([[ 0.7733, -0.0622]], device='cuda:0')\ntensor([[0.7875, 0.2170]], device='cuda:0')\nloss[992][59]: 0.040540\ntensor([[ 0.7881, -0.0636]], device='cuda:0')\ntensor([[0.7899, 0.2211]], device='cuda:0')\nloss[993][0]: 0.042479\ntensor([[ 0.8031, -0.0651]], device='cuda:0')\ntensor([[0.7888, 0.2260]], device='cuda:0')\nloss[993][1]: 0.044662\ntensor([[ 0.8188, -0.0667]], device='cuda:0')\ntensor([[0.7878, 0.2306]], device='cuda:0')\nloss[993][2]: 0.047200\ntensor([[ 0.8360, -0.0684]], device='cuda:0')\ntensor([[0.7868, 0.2349]], device='cuda:0')\nloss[993][3]: 0.050120\ntensor([[ 0.8542, -0.0702]], device='cuda:0')\ntensor([[0.7859, 0.2389]], device='cuda:0')\nloss[993][4]: 0.053316\ntensor([[ 0.8721, -0.0720]], device='cuda:0')\ntensor([[0.7850, 0.2427]], device='cuda:0')\nloss[993][5]: 0.056686\ntensor([[ 0.8891, -0.0737]], device='cuda:0')\ntensor([[0.7842, 0.2463]], device='cuda:0')\nloss[993][6]: 0.055258\ntensor([[ 0.9045, -0.0752]], device='cuda:0')\ntensor([[0.7896, 0.2367]], device='cuda:0')\nloss[993][7]: 0.050898\ntensor([[ 0.9188, -0.0766]], device='cuda:0')\ntensor([[0.7986, 0.2189]], device='cuda:0')\nloss[993][8]: 0.047149\ntensor([[ 0.9340, -0.0782]], device='cuda:0')\ntensor([[0.8074, 0.2016]], device='cuda:0')\nloss[993][9]: 0.043746\ntensor([[ 0.9487, -0.0796]], device='cuda:0')\ntensor([[0.8157, 0.1846]], device='cuda:0')\nloss[993][10]: 0.040355\ntensor([[ 0.9609, -0.0808]], device='cuda:0')\ntensor([[0.8238, 0.1680]], device='cuda:0')\nloss[993][11]: 0.036897\ntensor([[ 0.9705, -0.0818]], device='cuda:0')\ntensor([[0.8316, 0.1517]], device='cuda:0')\nloss[993][12]: 0.033748\ntensor([[ 0.9799, -0.0827]], device='cuda:0')\ntensor([[0.8392, 0.1357]], device='cuda:0')\nloss[993][13]: 0.034987\ntensor([[ 0.9885, -0.0836]], device='cuda:0')\ntensor([[0.8408, 0.1359]], device='cuda:0')\nloss[993][14]: 0.035829\ntensor([[ 0.9945, -0.0842]], device='cuda:0')\ntensor([[0.8424, 0.1361]], device='cuda:0')\nloss[993][15]: 0.036399\ntensor([[ 0.9989, -0.0846]], device='cuda:0')\ntensor([[0.8440, 0.1364]], device='cuda:0')\nloss[993][16]: 0.036922\ntensor([[ 1.0024, -0.0850]], device='cuda:0')\ntensor([[0.8454, 0.1368]], device='cuda:0')\nloss[993][17]: 0.037797\ntensor([[ 1.0074, -0.0855]], device='cuda:0')\ntensor([[0.8465, 0.1375]], device='cuda:0')\nloss[993][18]: 0.039351\ntensor([[ 1.0140, -0.0861]], device='cuda:0')\ntensor([[0.8438, 0.1370]], device='cuda:0')\nloss[993][19]: 0.041233\ntensor([[ 1.0218, -0.0869]], device='cuda:0')\ntensor([[0.8412, 0.1364]], device='cuda:0')\nloss[993][20]: 0.043449\ntensor([[ 1.0307, -0.0878]], device='cuda:0')\ntensor([[0.8388, 0.1360]], device='cuda:0')\nloss[993][21]: 0.045733\ntensor([[ 1.0394, -0.0886]], device='cuda:0')\ntensor([[0.8364, 0.1355]], device='cuda:0')\nloss[993][22]: 0.047537\ntensor([[ 1.0456, -0.0893]], device='cuda:0')\ntensor([[0.8341, 0.1351]], device='cuda:0')\nloss[993][23]: 0.048804\ntensor([[ 1.0493, -0.0896]], device='cuda:0')\ntensor([[0.8319, 0.1347]], device='cuda:0')\nloss[993][24]: 0.050168\ntensor([[ 1.0535, -0.0900]], device='cuda:0')\ntensor([[0.8299, 0.1344]], device='cuda:0')\nloss[993][25]: 0.052137\ntensor([[ 1.0600, -0.0907]], device='cuda:0')\ntensor([[0.8282, 0.1340]], device='cuda:0')\nloss[993][26]: 0.054052\ntensor([[ 1.0663, -0.0913]], device='cuda:0')\ntensor([[0.8267, 0.1338]], device='cuda:0')\nloss[993][27]: 0.057612\ntensor([[ 1.0732, -0.0920]], device='cuda:0')\ntensor([[0.8200, 0.1340]], device='cuda:0')\nloss[993][28]: 0.062409\ntensor([[ 1.0786, -0.0925]], device='cuda:0')\ntensor([[0.8081, 0.1347]], device='cuda:0')\nloss[993][29]: 0.066752\ntensor([[ 1.0825, -0.0929]], device='cuda:0')\ntensor([[0.7972, 0.1353]], device='cuda:0')\nloss[993][30]: 0.071044\ntensor([[ 1.0863, -0.0933]], device='cuda:0')\ntensor([[0.7871, 0.1359]], device='cuda:0')\nloss[993][31]: 0.074962\ntensor([[ 1.0889, -0.0936]], device='cuda:0')\ntensor([[0.7775, 0.1365]], device='cuda:0')\nloss[993][32]: 0.078596\ntensor([[ 1.0908, -0.0938]], device='cuda:0')\ntensor([[0.7684, 0.1370]], device='cuda:0')\nloss[993][33]: 0.084115\ntensor([[ 1.0929, -0.0940]], device='cuda:0')\ntensor([[0.7551, 0.1387]], device='cuda:0')\nloss[993][34]: 0.089898\ntensor([[ 1.0931, -0.0940]], device='cuda:0')\ntensor([[0.7400, 0.1408]], device='cuda:0')\nloss[993][35]: 0.093456\ntensor([[ 1.0880, -0.0935]], device='cuda:0')\ntensor([[0.7259, 0.1428]], device='cuda:0')\nloss[993][36]: 0.095465\ntensor([[ 1.0797, -0.0926]], device='cuda:0')\ntensor([[0.7128, 0.1446]], device='cuda:0')\nloss[993][37]: 0.097226\ntensor([[ 1.0716, -0.0918]], device='cuda:0')\ntensor([[0.7005, 0.1464]], device='cuda:0')\nloss[993][38]: 0.098924\ntensor([[ 1.0639, -0.0911]], device='cuda:0')\ntensor([[0.6888, 0.1480]], device='cuda:0')\nloss[993][39]: 0.100258\ntensor([[ 1.0559, -0.0903]], device='cuda:0')\ntensor([[0.6778, 0.1495]], device='cuda:0')\nloss[993][40]: 0.101068\ntensor([[ 1.0473, -0.0894]], device='cuda:0')\ntensor([[0.6674, 0.1510]], device='cuda:0')\nloss[993][41]: 0.101281\ntensor([[ 1.0378, -0.0885]], device='cuda:0')\ntensor([[0.6576, 0.1524]], device='cuda:0')\nloss[993][42]: 0.097969\ntensor([[ 1.0264, -0.0873]], device='cuda:0')\ntensor([[0.6608, 0.1622]], device='cuda:0')\nloss[993][43]: 0.093332\ntensor([[ 1.0137, -0.0861]], device='cuda:0')\ntensor([[0.6698, 0.1754]], device='cuda:0')\nloss[993][44]: 0.089898\ntensor([[ 1.0033, -0.0850]], device='cuda:0')\ntensor([[0.6791, 0.1882]], device='cuda:0')\nloss[993][45]: 0.088300\ntensor([[ 0.9973, -0.0845]], device='cuda:0')\ntensor([[0.6886, 0.2006]], device='cuda:0')\nloss[993][46]: 0.087368\ntensor([[ 0.9929, -0.0840]], device='cuda:0')\ntensor([[0.6978, 0.2120]], device='cuda:0')\nloss[993][47]: 0.085580\ntensor([[ 0.9841, -0.0831]], device='cuda:0')\ntensor([[0.7042, 0.2215]], device='cuda:0')\nloss[993][48]: 0.084580\ntensor([[ 0.9726, -0.0820]], device='cuda:0')\ntensor([[0.7019, 0.2276]], device='cuda:0')\nloss[993][49]: 0.084102\ntensor([[ 0.9626, -0.0810]], device='cuda:0')\ntensor([[0.6996, 0.2337]], device='cuda:0')\nloss[993][50]: 0.084047\ntensor([[ 0.9539, -0.0801]], device='cuda:0')\ntensor([[0.6973, 0.2397]], device='cuda:0')\nloss[993][51]: 0.083702\ntensor([[ 0.9439, -0.0791]], device='cuda:0')\ntensor([[0.6951, 0.2457]], device='cuda:0')\nloss[993][52]: 0.083380\ntensor([[ 0.9339, -0.0781]], device='cuda:0')\ntensor([[0.6929, 0.2516]], device='cuda:0')\nloss[993][53]: 0.083339\ntensor([[ 0.9246, -0.0772]], device='cuda:0')\ntensor([[0.6908, 0.2575]], device='cuda:0')\nloss[993][54]: 0.083667\ntensor([[ 0.9161, -0.0764]], device='cuda:0')\ntensor([[0.6885, 0.2635]], device='cuda:0')\nloss[993][55]: 0.085117\ntensor([[ 0.9070, -0.0755]], device='cuda:0')\ntensor([[0.6838, 0.2715]], device='cuda:0')\nloss[993][56]: 0.087538\ntensor([[ 0.9017, -0.0749]], device='cuda:0')\ntensor([[0.6791, 0.2794]], device='cuda:0')\nloss[993][57]: 0.091219\ntensor([[ 0.9011, -0.0749]], device='cuda:0')\ntensor([[0.6745, 0.2872]], device='cuda:0')\nloss[993][58]: 0.095241\ntensor([[ 0.9026, -0.0750]], device='cuda:0')\ntensor([[0.6703, 0.2944]], device='cuda:0')\nloss[993][59]: 0.099591\ntensor([[ 0.9062, -0.0754]], device='cuda:0')\ntensor([[0.6664, 0.3010]], device='cuda:0')\nloss[994][0]: 0.104479\ntensor([[ 0.9113, -0.0759]], device='cuda:0')\ntensor([[0.6625, 0.3076]], device='cuda:0')\nloss[994][1]: 0.108689\ntensor([[ 0.9139, -0.0762]], device='cuda:0')\ntensor([[0.6587, 0.3141]], device='cuda:0')\nloss[994][2]: 0.111682\ntensor([[ 0.9131, -0.0761]], device='cuda:0')\ntensor([[0.6552, 0.3200]], device='cuda:0')\nloss[994][3]: 0.112002\ntensor([[ 0.9118, -0.0759]], device='cuda:0')\ntensor([[0.6544, 0.3212]], device='cuda:0')\nloss[994][4]: 0.110733\ntensor([[ 0.9107, -0.0758]], device='cuda:0')\ntensor([[0.6553, 0.3195]], device='cuda:0')\nloss[994][5]: 0.109633\ntensor([[ 0.9098, -0.0757]], device='cuda:0')\ntensor([[0.6561, 0.3179]], device='cuda:0')\nloss[994][6]: 0.108535\ntensor([[ 0.9087, -0.0756]], device='cuda:0')\ntensor([[0.6569, 0.3164]], device='cuda:0')\nloss[994][7]: 0.106933\ntensor([[ 0.9074, -0.0755]], device='cuda:0')\ntensor([[0.6590, 0.3146]], device='cuda:0')\nloss[994][8]: 0.104181\ntensor([[ 0.9058, -0.0754]], device='cuda:0')\ntensor([[0.6641, 0.3118]], device='cuda:0')\nloss[994][9]: 0.101385\ntensor([[ 0.9034, -0.0751]], device='cuda:0')\ntensor([[0.6688, 0.3093]], device='cuda:0')\nloss[994][10]: 0.098450\ntensor([[ 0.8997, -0.0747]], device='cuda:0')\ntensor([[0.6732, 0.3069]], device='cuda:0')\nloss[994][11]: 0.095593\ntensor([[ 0.8955, -0.0743]], device='cuda:0')\ntensor([[0.6773, 0.3046]], device='cuda:0')\nloss[994][12]: 0.093332\ntensor([[ 0.8929, -0.0741]], device='cuda:0')\ntensor([[0.6812, 0.3025]], device='cuda:0')\nloss[994][13]: 0.091240\ntensor([[ 0.8934, -0.0741]], device='cuda:0')\ntensor([[0.6878, 0.3003]], device='cuda:0')\nloss[994][14]: 0.087894\ntensor([[ 0.8950, -0.0743]], device='cuda:0')\ntensor([[0.7012, 0.2975]], device='cuda:0')\nloss[994][15]: 0.085042\ntensor([[ 0.8980, -0.0746]], device='cuda:0')\ntensor([[0.7145, 0.2948]], device='cuda:0')\nloss[994][16]: 0.082683\ntensor([[ 0.9027, -0.0750]], device='cuda:0')\ntensor([[0.7277, 0.2920]], device='cuda:0')\nloss[994][17]: 0.080785\ntensor([[ 0.9091, -0.0757]], device='cuda:0')\ntensor([[0.7407, 0.2893]], device='cuda:0')\nloss[994][18]: 0.079412\ntensor([[ 0.9177, -0.0765]], device='cuda:0')\ntensor([[0.7536, 0.2866]], device='cuda:0')\nloss[994][19]: 0.078427\ntensor([[ 0.9280, -0.0776]], device='cuda:0')\ntensor([[0.7663, 0.2839]], device='cuda:0')\nloss[994][20]: 0.077460\ntensor([[ 0.9382, -0.0786]], device='cuda:0')\ntensor([[0.7788, 0.2813]], device='cuda:0')\nloss[994][21]: 0.076272\ntensor([[ 0.9470, -0.0794]], device='cuda:0')\ntensor([[0.7913, 0.2787]], device='cuda:0')\nloss[994][22]: 0.074711\ntensor([[ 0.9535, -0.0801]], device='cuda:0')\ntensor([[0.8035, 0.2762]], device='cuda:0')\nloss[994][23]: 0.073468\ntensor([[ 0.9599, -0.0807]], device='cuda:0')\ntensor([[0.8142, 0.2738]], device='cuda:0')\nloss[994][24]: 0.072105\ntensor([[ 0.9651, -0.0812]], device='cuda:0')\ntensor([[0.8245, 0.2715]], device='cuda:0')\nloss[994][25]: 0.071084\ntensor([[ 0.9720, -0.0819]], device='cuda:0')\ntensor([[0.8347, 0.2693]], device='cuda:0')\nloss[994][26]: 0.070120\ntensor([[ 0.9790, -0.0826]], device='cuda:0')\ntensor([[0.8449, 0.2670]], device='cuda:0')\nloss[994][27]: 0.068559\ntensor([[ 0.9857, -0.0833]], device='cuda:0')\ntensor([[0.8521, 0.2621]], device='cuda:0')\nloss[994][28]: 0.067046\ntensor([[ 0.9924, -0.0840]], device='cuda:0')\ntensor([[0.8593, 0.2572]], device='cuda:0')\nloss[994][29]: 0.065639\ntensor([[ 0.9995, -0.0847]], device='cuda:0')\ntensor([[0.8664, 0.2523]], device='cuda:0')\nloss[994][30]: 0.061344\ntensor([[ 1.0056, -0.0853]], device='cuda:0')\ntensor([[0.8702, 0.2378]], device='cuda:0')\nloss[994][31]: 0.056837\ntensor([[ 1.0121, -0.0859]], device='cuda:0')\ntensor([[0.8728, 0.2211]], device='cuda:0')\nloss[994][32]: 0.052335\ntensor([[ 1.0161, -0.0863]], device='cuda:0')\ntensor([[0.8749, 0.2048]], device='cuda:0')\nloss[994][33]: 0.047782\ntensor([[ 1.0174, -0.0865]], device='cuda:0')\ntensor([[0.8766, 0.1887]], device='cuda:0')\nloss[994][34]: 0.043397\ntensor([[ 1.0175, -0.0865]], device='cuda:0')\ntensor([[0.8779, 0.1730]], device='cuda:0')\nloss[994][35]: 0.039604\ntensor([[ 1.0161, -0.0863]], device='cuda:0')\ntensor([[0.8786, 0.1593]], device='cuda:0')\nloss[994][36]: 0.035999\ntensor([[ 1.0138, -0.0861]], device='cuda:0')\ntensor([[0.8792, 0.1460]], device='cuda:0')\nloss[994][37]: 0.032886\ntensor([[ 1.0128, -0.0860]], device='cuda:0')\ntensor([[0.8795, 0.1331]], device='cuda:0')\nloss[994][38]: 0.030415\ntensor([[ 1.0127, -0.0860]], device='cuda:0')\ntensor([[0.8796, 0.1217]], device='cuda:0')\nloss[996][58]: 0.130526\ntensor([[0.1372, 0.0011]], device='cuda:0')\ntensor([[0.6481, 0.0035]], device='cuda:0')\nloss[996][59]: 0.130832\ntensor([[0.1366, 0.0012]], device='cuda:0')\ntensor([[0.6481, 0.0035]], device='cuda:0')\nloss[997][0]: 0.131422\ntensor([[0.1355, 0.0013]], device='cuda:0')\ntensor([[0.6481, 0.0035]], device='cuda:0')\nloss[997][1]: 0.132227\ntensor([[0.1339, 0.0014]], device='cuda:0')\ntensor([[0.6481, 0.0035]], device='cuda:0')\nloss[997][2]: 0.133105\ntensor([[0.1322, 0.0016]], device='cuda:0')\ntensor([[0.6481, 0.0035]], device='cuda:0')\nloss[997][3]: 0.133866\ntensor([[0.1307, 0.0018]], device='cuda:0')\ntensor([[0.6481, 0.0035]], device='cuda:0')\nloss[997][4]: 0.120333\ntensor([[0.1293, 0.0019]], device='cuda:0')\ntensor([[0.6198, 0.0034]], device='cuda:0')\nloss[997][5]: 0.091418\ntensor([[0.1246, 0.0024]], device='cuda:0')\ntensor([[0.5521, 0.0032]], device='cuda:0')\nloss[997][6]: 0.070594\ntensor([[0.1127, 0.0035]], device='cuda:0')\ntensor([[0.4884, 0.0030]], device='cuda:0')\nloss[997][7]: 0.055182\ntensor([[0.0961, 0.0052]], device='cuda:0')\ntensor([[0.4283, 0.0028]], device='cuda:0')\nloss[997][8]: 0.043687\ntensor([[0.0757, 0.0072]], device='cuda:0')\ntensor([[0.3712, 0.0026]], device='cuda:0')\nloss[997][9]: 0.035318\ntensor([[0.0514, 0.0096]], device='cuda:0')\ntensor([[0.3170, 0.0025]], device='cuda:0')\nloss[999][27]: 0.030455\ntensor([[-0.1333,  0.0280]], device='cuda:0')\ntensor([[-0.2474,  0.2469]], device='cuda:0')\nloss[999][28]: 0.031850\ntensor([[-0.1274,  0.0274]], device='cuda:0')\ntensor([[-0.2529,  0.2464]], device='cuda:0')\nloss[999][29]: 0.033394\ntensor([[-0.1226,  0.0269]], device='cuda:0')\ntensor([[-0.2587,  0.2466]], device='cuda:0')\nloss[999][30]: 0.036771\ntensor([[-0.1194,  0.0266]], device='cuda:0')\ntensor([[-0.2704,  0.2519]], device='cuda:0')\nloss[999][31]: 0.039879\ntensor([[-0.1185,  0.0265]], device='cuda:0')\ntensor([[-0.2818,  0.2570]], device='cuda:0')\nloss[999][32]: 0.042270\ntensor([[-0.1213,  0.0268]], device='cuda:0')\ntensor([[-0.2925,  0.2618]], device='cuda:0')\nloss[999][33]: 0.045078\ntensor([[-0.1216,  0.0268]], device='cuda:0')\ntensor([[-0.3026,  0.2664]], device='cuda:0')\nloss[999][34]: 0.048237\ntensor([[-0.1201,  0.0267]], device='cuda:0')\ntensor([[-0.3123,  0.2707]], device='cuda:0')\nloss[999][35]: 0.051328\ntensor([[-0.1166,  0.0264]], device='cuda:0')\ntensor([[-0.3207,  0.2734]], device='cuda:0')\nloss[999][36]: 0.050995\ntensor([[-0.1092,  0.0256]], device='cuda:0')\ntensor([[-0.3230,  0.2628]], device='cuda:0')\nloss[999][37]: 0.051645\ntensor([[-0.0987,  0.0246]], device='cuda:0')\ntensor([[-0.3253,  0.2524]], device='cuda:0')\nloss[999][38]: 0.051647\ntensor([[-0.0917,  0.0239]], device='cuda:0')\ntensor([[-0.3276,  0.2422]], device='cuda:0')\nloss[999][39]: 0.050926\ntensor([[-0.0883,  0.0235]], device='cuda:0')\ntensor([[-0.3299,  0.2320]], device='cuda:0')\nloss[999][40]: 0.050447\ntensor([[-0.0845,  0.0232]], device='cuda:0')\ntensor([[-0.3322,  0.2220]], device='cuda:0')\nloss[999][41]: 0.050499\ntensor([[-0.0793,  0.0226]], device='cuda:0')\ntensor([[-0.3344,  0.2122]], device='cuda:0')\nloss[999][42]: 0.050325\ntensor([[-0.0755,  0.0223]], device='cuda:0')\ntensor([[-0.3367,  0.2024]], device='cuda:0')\nloss[999][43]: 0.049861\ntensor([[-0.0732,  0.0220]], device='cuda:0')\ntensor([[-0.3389,  0.1928]], device='cuda:0')\nloss[999][44]: 0.049300\ntensor([[-0.0717,  0.0219]], device='cuda:0')\ntensor([[-0.3411,  0.1833]], device='cuda:0')\nloss[999][45]: 0.049933\ntensor([[-0.0673,  0.0215]], device='cuda:0')\ntensor([[-0.3422,  0.1774]], device='cuda:0')\nloss[999][46]: 0.050882\ntensor([[-0.0640,  0.0211]], device='cuda:0')\ntensor([[-0.3409,  0.1795]], device='cuda:0')\nloss[999][47]: 0.050150\ntensor([[-0.0664,  0.0214]], device='cuda:0')\ntensor([[-0.3396,  0.1816]], device='cuda:0')\nloss[999][48]: 0.048545\ntensor([[-0.0720,  0.0219]], device='cuda:0')\ntensor([[-0.3384,  0.1836]], device='cuda:0')\nloss[999][49]: 0.047285\ntensor([[-0.0766,  0.0224]], device='cuda:0')\ntensor([[-0.3373,  0.1854]], device='cuda:0')\nloss[999][50]: 0.046469\ntensor([[-0.0796,  0.0227]], device='cuda:0')\ntensor([[-0.3363,  0.1871]], device='cuda:0')\nloss[999][51]: 0.045383\ntensor([[-0.0831,  0.0230]], device='cuda:0')\ntensor([[-0.3373,  0.1847]], device='cuda:0')\nloss[999][52]: 0.043632\ntensor([[-0.0888,  0.0236]], device='cuda:0')\ntensor([[-0.3358,  0.1857]], device='cuda:0')\nloss[999][53]: 0.041258\ntensor([[-0.0973,  0.0244]], device='cuda:0')\ntensor([[-0.3323,  0.1897]], device='cuda:0')\nloss[999][54]: 0.039009\ntensor([[-0.1058,  0.0253]], device='cuda:0')\ntensor([[-0.3290,  0.1933]], device='cuda:0')\nloss[999][55]: 0.038186\ntensor([[-0.1088,  0.0256]], device='cuda:0')\ntensor([[-0.3257,  0.1968]], device='cuda:0')\nloss[999][56]: 0.038282\ntensor([[-0.1080,  0.0255]], device='cuda:0')\ntensor([[-0.3224,  0.2003]], device='cuda:0')\nloss[999][57]: 0.038749\ntensor([[-0.1056,  0.0253]], device='cuda:0')\ntensor([[-0.3192,  0.2038]], device='cuda:0')\nloss[999][58]: 0.039703\ntensor([[-0.1012,  0.0248]], device='cuda:0')\ntensor([[-0.3160,  0.2072]], device='cuda:0')\nloss[999][59]: 0.040866\ntensor([[-0.0960,  0.0243]], device='cuda:0')\ntensor([[-0.3129,  0.2106]], device='cuda:0')\nTest loss: 0.04541034635794771\n"
    }
   ],
   "source": [
    "# Test the model\n",
    "anomalies = list()\n",
    "with torch.no_grad():\n",
    "    total_loss = 0 \n",
    "    total = 0\n",
    "    for i, sample_batched in enumerate(test_loader):\n",
    "        Xs, Ys = sample_batched['X'], sample_batched['Y']\n",
    "        # Move tensors to the configured device\n",
    "        for j in range(train_dataset.Tx):\n",
    "            X = Xs[:, j, :].to(device)\n",
    "            Y = Ys[:, j, :].to(device)\n",
    "\n",
    "            # Forward pass\n",
    "            outputs = model(X)\n",
    "            loss = criterion(outputs, Y)\n",
    "            total_loss += loss.item()\n",
    "            total += X.shape[0]\n",
    "\n",
    "            if loss.item() > anomaly_threshold:\n",
    "                anomalies.append({\n",
    "                    'i': i,\n",
    "                    'j': j,\n",
    "                    'predict_Y': outputs,\n",
    "                    'labels': Y,\n",
    "                    'loss': loss.item()\n",
    "                })\n",
    "            \n",
    "\n",
    "    print('Test loss: {}'.format(\n",
    "        total_loss / total))"
   ]
  },
  {
   "cell_type": "code",
   "execution_count": 14,
   "metadata": {},
   "outputs": [
    {
     "name": "stdout",
     "output_type": "stream",
     "text": "anomalies: 29368\nm:  1000\nTx: 60\nrate of anomalies: 0.489467 %\n"
    }
   ],
   "source": [
    "print('anomalies:', len(anomalies))\n",
    "\n",
    "print('m: ', test_dataset[:]['X'].shape[0])\n",
    "print('Tx:', test_dataset[:]['X'].shape[1])\n",
    "\n",
    "print('rate of anomalies: %f %%' % (len(anomalies) / (test_dataset[:]['X'].shape[0]*test_dataset[:]['X'].shape[1])) )"
   ]
  },
  {
   "cell_type": "code",
   "execution_count": 18,
   "metadata": {},
   "outputs": [],
   "source": [
    "test_logger = TestLogger(LOG_FILE_ROOT)\n",
    "test_logger.dump(anomalies, test_dataset, anomaly_threshold, LOG_FILE_NAME)"
   ]
  },
  {
   "cell_type": "code",
   "execution_count": null,
   "metadata": {},
   "outputs": [],
   "source": [
    "# Save the model checkpoint\n",
    "torch.save(model.state_dict(), MODEL_SAVE_PATH)"
   ]
  },
  {
   "cell_type": "code",
   "execution_count": null,
   "metadata": {},
   "outputs": [],
   "source": []
  }
 ]
}