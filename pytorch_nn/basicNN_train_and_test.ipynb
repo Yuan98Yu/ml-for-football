{
 "nbformat": 4,
 "nbformat_minor": 2,
 "metadata": {
  "language_info": {
   "name": "python",
   "codemirror_mode": {
    "name": "ipython",
    "version": 3
   },
   "version": "3.7.6-final"
  },
  "orig_nbformat": 2,
  "file_extension": ".py",
  "mimetype": "text/x-python",
  "name": "python",
  "npconvert_exporter": "python",
  "pygments_lexer": "ipython3",
  "version": 3,
  "kernelspec": {
   "name": "python3",
   "display_name": "Python 3"
  }
 },
 "cells": [
  {
   "cell_type": "code",
   "execution_count": 1,
   "metadata": {},
   "outputs": [],
   "source": [
    "from dataset.FootballDataset import FootballDataset\n",
    "from dataset.FootballDisplay import FootballDisplay\n",
    "from dataset.Transforms import *\n",
    "from nn.BasicNN import BasicNN\n",
    "\n",
    "import torch\n",
    "import torch.nn as nn\n",
    "from torch.utils.data import DataLoader\n",
    "from torchvision import transforms, utils"
   ]
  },
  {
   "cell_type": "code",
   "execution_count": 3,
   "metadata": {},
   "outputs": [
    {
     "name": "stdout",
     "output_type": "stream",
     "text": "cuda\n"
    }
   ],
   "source": [
    "# Device configuration\n",
    "device = torch.device('cuda' if torch.cuda.is_available() else 'cpu')\n",
    "# The path to save and load model\n",
    "MODEL_SAVE_PATH = '/projects/research/football/pytorch_nn/models/basicNN_model.ckpt'\n",
    "\n",
    "# Hyper-parameters\n",
    "batch_size = 4\n",
    "num_epochs = 2\n",
    "learning_rate = 0.01\n",
    "input_size = 44\n",
    "hidden_size = 500\n",
    "output_size = 2\n",
    "\n",
    "print(device)"
   ]
  },
  {
   "cell_type": "code",
   "execution_count": 2,
   "metadata": {},
   "outputs": [],
   "source": [
    "train_dataset = FootballDataset(train=True, \n",
    "                                transform=transforms.Compose([ToTensor(),\n",
    "                                                            YTo2D()]))\n",
    "test_dataset = FootballDataset(train=False,\n",
    "                               transform=transforms.Compose([ToTensor(),\n",
    "                                                            YTo2D()]))"
   ]
  },
  {
   "cell_type": "code",
   "execution_count": 4,
   "metadata": {},
   "outputs": [],
   "source": [
    "# Data loader\n",
    "train_loader = DataLoader(dataset=train_dataset,\n",
    "                         batch_size=batch_size,\n",
    "                         shuffle=True)\n",
    "test_loader = DataLoader(dataset=test_dataset,\n",
    "                         batch_size=batch_size,\n",
    "                         shuffle=False)"
   ]
  },
  {
   "cell_type": "code",
   "execution_count": 5,
   "metadata": {},
   "outputs": [
    {
     "data": {
      "text/plain": "<All keys matched successfully>"
     },
     "execution_count": 5,
     "metadata": {},
     "output_type": "execute_result"
    }
   ],
   "source": [
    "model = BasicNN(input_size, hidden_size, output_size).to(device)\n",
    "model.load_state_dict(torch.load(MODEL_SAVE_PATH))"
   ]
  },
  {
   "cell_type": "code",
   "execution_count": 6,
   "metadata": {},
   "outputs": [],
   "source": [
    "# Loss and optimizer\n",
    "criterion = nn.MSELoss()\n",
    "optimizer = torch.optim.Adam(model.parameters(), lr=learning_rate)"
   ]
  },
  {
   "cell_type": "code",
   "execution_count": 7,
   "metadata": {},
   "outputs": [
    {
     "name": "stdout",
     "output_type": "stream",
     "text": "Epoch [1/2], Step [100/2588], Loss: 0.0205\nEpoch [1/2], Step [200/2588], Loss: 0.0249\nEpoch [1/2], Step [300/2588], Loss: 0.0170\nEpoch [1/2], Step [400/2588], Loss: 0.0800\nEpoch [1/2], Step [500/2588], Loss: 0.0218\nEpoch [1/2], Step [600/2588], Loss: 0.0329\nEpoch [1/2], Step [700/2588], Loss: 0.0079\nEpoch [1/2], Step [800/2588], Loss: 0.0152\nEpoch [1/2], Step [900/2588], Loss: 0.0167\nEpoch [1/2], Step [1000/2588], Loss: 0.0660\nEpoch [1/2], Step [1100/2588], Loss: 0.0098\nEpoch [1/2], Step [1200/2588], Loss: 0.0115\nEpoch [1/2], Step [1300/2588], Loss: 0.0070\nEpoch [1/2], Step [1400/2588], Loss: 0.0106\nEpoch [1/2], Step [1500/2588], Loss: 0.0183\nEpoch [1/2], Step [1600/2588], Loss: 0.0759\nEpoch [1/2], Step [1700/2588], Loss: 0.0106\nEpoch [1/2], Step [1800/2588], Loss: 0.0447\nEpoch [1/2], Step [1900/2588], Loss: 0.0297\nEpoch [1/2], Step [2000/2588], Loss: 0.0153\nEpoch [1/2], Step [2100/2588], Loss: 0.0201\nEpoch [1/2], Step [2200/2588], Loss: 0.0158\nEpoch [1/2], Step [2300/2588], Loss: 0.0141\nEpoch [1/2], Step [2400/2588], Loss: 0.0196\nEpoch [1/2], Step [2500/2588], Loss: 0.0093\nEpoch [2/2], Step [100/2588], Loss: 0.0496\n"
    }
   ],
   "source": [
    "# Train the model\n",
    "total_step = len(train_loader)\n",
    "for epoch in range(num_epochs):\n",
    "    for i, sample_batched in enumerate(train_loader):\n",
    "        Xs, Ys = sample_batched['X'], sample_batched['Y']\n",
    "        # Move tensors to the configured device\n",
    "        for j in range(train_dataset.Tx):\n",
    "            X = Xs[:, j, :].to(device)\n",
    "            Y = Ys[:, j, :].to(device)\n",
    "\n",
    "            # Forward pass\n",
    "            outputs = model(X)\n",
    "            loss = criterion(outputs, Y)\n",
    "\n",
    "            # Backward and optimize\n",
    "            optimizer.zero_grad()\n",
    "            loss.backward()\n",
    "            optimizer.step()\n",
    "\n",
    "        if (i + 1) % 100 == 0:\n",
    "            print('Epoch [{}/{}], Step [{}/{}], Loss: {:.4f}'.format(\n",
    "                epoch + 1, num_epochs, i + 1, total_step, loss.item()))\n"
   ]
  },
  {
   "cell_type": "code",
   "execution_count": 0,
   "metadata": {},
   "outputs": [],
   "source": [
    "# Test the model\n",
    "with torch.no_grad():\n",
    "    total_loss = 0 \n",
    "    total = 0\n",
    "    for i, sample_batched in enumerate(test_loader):\n",
    "        Xs, Ys = sample_batched['X'], sample_batched['Y']\n",
    "        # Move tensors to the configured device\n",
    "        for j in range(train_dataset.Tx):\n",
    "            X = Xs[:, j, :].to(device)\n",
    "            Y = Ys[:, j, :].to(device)\n",
    "\n",
    "            # Forward pass\n",
    "            outputs = model(X)\n",
    "            loss = criterion(outputs, Y)\n",
    "            total_loss += loss.item()\n",
    "            total += 1\n",
    "\n",
    "            if i < 1:\n",
    "                print('loss[i][j]: %f' %loss.item())\n",
    "                print(outputs)\n",
    "                print(Y)\n",
    "\n",
    "    print('Test loss: {} %'.format(\n",
    "        loss / total))"
   ]
  },
  {
   "cell_type": "code",
   "execution_count": 0,
   "metadata": {},
   "outputs": [],
   "source": [
    "# Save the model checkpoint\n",
    "torch.save(model.state_dict(), MODEL_SAVE_PATH)"
   ]
  },
  {
   "cell_type": "code",
   "execution_count": null,
   "metadata": {},
   "outputs": [],
   "source": []
  }
 ]
}